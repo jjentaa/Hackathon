{
  "cells": [
    {
      "cell_type": "markdown",
      "source": [
        "Install"
      ],
      "metadata": {
        "id": "DSylek8Vis9n"
      }
    },
    {
      "cell_type": "code",
      "execution_count": null,
      "metadata": {
        "id": "bNjkuQK46z5M",
        "colab": {
          "base_uri": "https://localhost:8080/"
        },
        "outputId": "26dd367a-6c2a-42e0-c0ce-2b4a801911d9"
      },
      "outputs": [
        {
          "output_type": "stream",
          "name": "stdout",
          "text": [
            "Looking in indexes: https://pypi.org/simple, https://us-python.pkg.dev/colab-wheels/public/simple/\n",
            "Collecting sklearn_crfsuite\n",
            "  Downloading sklearn_crfsuite-0.3.6-py2.py3-none-any.whl (12 kB)\n",
            "Requirement already satisfied: six in /usr/local/lib/python3.7/dist-packages (from sklearn_crfsuite) (1.15.0)\n",
            "Requirement already satisfied: tqdm>=2.0 in /usr/local/lib/python3.7/dist-packages (from sklearn_crfsuite) (4.64.0)\n",
            "Collecting python-crfsuite>=0.8.3\n",
            "  Downloading python_crfsuite-0.9.8-cp37-cp37m-manylinux_2_17_x86_64.manylinux2014_x86_64.whl (965 kB)\n",
            "\u001b[K     |████████████████████████████████| 965 kB 4.8 MB/s \n",
            "\u001b[?25hRequirement already satisfied: tabulate in /usr/local/lib/python3.7/dist-packages (from sklearn_crfsuite) (0.8.10)\n",
            "Installing collected packages: python-crfsuite, sklearn-crfsuite\n",
            "Successfully installed python-crfsuite-0.9.8 sklearn-crfsuite-0.3.6\n",
            "Looking in indexes: https://pypi.org/simple, https://us-python.pkg.dev/colab-wheels/public/simple/\n",
            "Collecting emoji\n",
            "  Downloading emoji-2.0.0.tar.gz (197 kB)\n",
            "\u001b[K     |████████████████████████████████| 197 kB 4.6 MB/s \n",
            "\u001b[?25hBuilding wheels for collected packages: emoji\n",
            "  Building wheel for emoji (setup.py) ... \u001b[?25l\u001b[?25hdone\n",
            "  Created wheel for emoji: filename=emoji-2.0.0-py3-none-any.whl size=193022 sha256=725800e59477a6c2d0d0ce1e7da05ee64f5b22af2940fb9dcb05b8f1005069a5\n",
            "  Stored in directory: /root/.cache/pip/wheels/ec/29/4d/3cfe7452ac7d8d83b1930f8a6205c3c9649b24e80f9029fc38\n",
            "Successfully built emoji\n",
            "Installing collected packages: emoji\n",
            "Successfully installed emoji-2.0.0\n",
            "Looking in indexes: https://pypi.org/simple, https://us-python.pkg.dev/colab-wheels/public/simple/\n",
            "Collecting https://github.com/PyThaiNLP/pythainlp/archive/dev.zip\n",
            "  Downloading https://github.com/PyThaiNLP/pythainlp/archive/dev.zip\n",
            "\u001b[K     \\ 11.7 MB 118 kB/s\n",
            "\u001b[?25hRequirement already satisfied: requests>=2.22.0 in /usr/local/lib/python3.7/dist-packages (from pythainlp==3.1.0.dev1) (2.23.0)\n",
            "Requirement already satisfied: urllib3!=1.25.0,!=1.25.1,<1.26,>=1.21.1 in /usr/local/lib/python3.7/dist-packages (from requests>=2.22.0->pythainlp==3.1.0.dev1) (1.24.3)\n",
            "Requirement already satisfied: chardet<4,>=3.0.2 in /usr/local/lib/python3.7/dist-packages (from requests>=2.22.0->pythainlp==3.1.0.dev1) (3.0.4)\n",
            "Requirement already satisfied: certifi>=2017.4.17 in /usr/local/lib/python3.7/dist-packages (from requests>=2.22.0->pythainlp==3.1.0.dev1) (2022.6.15)\n",
            "Requirement already satisfied: idna<3,>=2.5 in /usr/local/lib/python3.7/dist-packages (from requests>=2.22.0->pythainlp==3.1.0.dev1) (2.10)\n",
            "Building wheels for collected packages: pythainlp\n",
            "  Building wheel for pythainlp (setup.py) ... \u001b[?25l\u001b[?25hdone\n",
            "  Created wheel for pythainlp: filename=pythainlp-3.1.0.dev1-py3-none-any.whl size=11519146 sha256=b787349acf9416e490e8f2ae63dfbd6438b95a604738c5a1fecbbacb1c5ed1dd\n",
            "  Stored in directory: /tmp/pip-ephem-wheel-cache-aurir7_3/wheels/87/69/e8/234fe11c5f2ec389a780229b2a1619e17b8ad38cd45eaf20f7\n",
            "Successfully built pythainlp\n",
            "Installing collected packages: pythainlp\n",
            "Successfully installed pythainlp-3.1.0.dev1\n",
            "Looking in indexes: https://pypi.org/simple, https://us-python.pkg.dev/colab-wheels/public/simple/\n",
            "Requirement already satisfied: fastai in /usr/local/lib/python3.7/dist-packages (2.7.9)\n",
            "Requirement already satisfied: pandas in /usr/local/lib/python3.7/dist-packages (from fastai) (1.3.5)\n",
            "Requirement already satisfied: matplotlib in /usr/local/lib/python3.7/dist-packages (from fastai) (3.2.2)\n",
            "Requirement already satisfied: requests in /usr/local/lib/python3.7/dist-packages (from fastai) (2.23.0)\n",
            "Requirement already satisfied: pip in /usr/local/lib/python3.7/dist-packages (from fastai) (21.1.3)\n",
            "Requirement already satisfied: pyyaml in /usr/local/lib/python3.7/dist-packages (from fastai) (6.0)\n",
            "Requirement already satisfied: fastprogress>=0.2.4 in /usr/local/lib/python3.7/dist-packages (from fastai) (1.0.3)\n",
            "Requirement already satisfied: spacy<4 in /usr/local/lib/python3.7/dist-packages (from fastai) (3.4.1)\n",
            "Requirement already satisfied: scikit-learn in /usr/local/lib/python3.7/dist-packages (from fastai) (1.0.2)\n",
            "Requirement already satisfied: torch<1.14,>=1.7 in /usr/local/lib/python3.7/dist-packages (from fastai) (1.12.1+cu113)\n",
            "Requirement already satisfied: scipy in /usr/local/lib/python3.7/dist-packages (from fastai) (1.7.3)\n",
            "Requirement already satisfied: torchvision>=0.8.2 in /usr/local/lib/python3.7/dist-packages (from fastai) (0.13.1+cu113)\n",
            "Requirement already satisfied: packaging in /usr/local/lib/python3.7/dist-packages (from fastai) (21.3)\n",
            "Requirement already satisfied: fastdownload<2,>=0.0.5 in /usr/local/lib/python3.7/dist-packages (from fastai) (0.0.7)\n",
            "Requirement already satisfied: fastcore<1.6,>=1.4.5 in /usr/local/lib/python3.7/dist-packages (from fastai) (1.5.22)\n",
            "Requirement already satisfied: pillow>6.0.0 in /usr/local/lib/python3.7/dist-packages (from fastai) (7.1.2)\n",
            "Requirement already satisfied: typing-extensions<4.2.0,>=3.7.4 in /usr/local/lib/python3.7/dist-packages (from spacy<4->fastai) (4.1.1)\n",
            "Requirement already satisfied: thinc<8.2.0,>=8.1.0 in /usr/local/lib/python3.7/dist-packages (from spacy<4->fastai) (8.1.0)\n",
            "Requirement already satisfied: spacy-loggers<2.0.0,>=1.0.0 in /usr/local/lib/python3.7/dist-packages (from spacy<4->fastai) (1.0.3)\n",
            "Requirement already satisfied: pathy>=0.3.5 in /usr/local/lib/python3.7/dist-packages (from spacy<4->fastai) (0.6.2)\n",
            "Requirement already satisfied: murmurhash<1.1.0,>=0.28.0 in /usr/local/lib/python3.7/dist-packages (from spacy<4->fastai) (1.0.8)\n",
            "Requirement already satisfied: catalogue<2.1.0,>=2.0.6 in /usr/local/lib/python3.7/dist-packages (from spacy<4->fastai) (2.0.8)\n",
            "Requirement already satisfied: cymem<2.1.0,>=2.0.2 in /usr/local/lib/python3.7/dist-packages (from spacy<4->fastai) (2.0.6)\n",
            "Requirement already satisfied: srsly<3.0.0,>=2.4.3 in /usr/local/lib/python3.7/dist-packages (from spacy<4->fastai) (2.4.4)\n",
            "Requirement already satisfied: jinja2 in /usr/local/lib/python3.7/dist-packages (from spacy<4->fastai) (2.11.3)\n",
            "Requirement already satisfied: spacy-legacy<3.1.0,>=3.0.9 in /usr/local/lib/python3.7/dist-packages (from spacy<4->fastai) (3.0.10)\n",
            "Requirement already satisfied: typer<0.5.0,>=0.3.0 in /usr/local/lib/python3.7/dist-packages (from spacy<4->fastai) (0.4.2)\n",
            "Requirement already satisfied: numpy>=1.15.0 in /usr/local/lib/python3.7/dist-packages (from spacy<4->fastai) (1.21.6)\n",
            "Requirement already satisfied: tqdm<5.0.0,>=4.38.0 in /usr/local/lib/python3.7/dist-packages (from spacy<4->fastai) (4.64.0)\n",
            "Requirement already satisfied: wasabi<1.1.0,>=0.9.1 in /usr/local/lib/python3.7/dist-packages (from spacy<4->fastai) (0.10.1)\n",
            "Requirement already satisfied: pydantic!=1.8,!=1.8.1,<1.10.0,>=1.7.4 in /usr/local/lib/python3.7/dist-packages (from spacy<4->fastai) (1.9.2)\n",
            "Requirement already satisfied: setuptools in /usr/local/lib/python3.7/dist-packages (from spacy<4->fastai) (57.4.0)\n",
            "Requirement already satisfied: preshed<3.1.0,>=3.0.2 in /usr/local/lib/python3.7/dist-packages (from spacy<4->fastai) (3.0.7)\n",
            "Requirement already satisfied: langcodes<4.0.0,>=3.2.0 in /usr/local/lib/python3.7/dist-packages (from spacy<4->fastai) (3.3.0)\n",
            "Requirement already satisfied: zipp>=0.5 in /usr/local/lib/python3.7/dist-packages (from catalogue<2.1.0,>=2.0.6->spacy<4->fastai) (3.8.1)\n",
            "Requirement already satisfied: pyparsing!=3.0.5,>=2.0.2 in /usr/local/lib/python3.7/dist-packages (from packaging->fastai) (3.0.9)\n",
            "Requirement already satisfied: smart-open<6.0.0,>=5.2.1 in /usr/local/lib/python3.7/dist-packages (from pathy>=0.3.5->spacy<4->fastai) (5.2.1)\n",
            "Requirement already satisfied: idna<3,>=2.5 in /usr/local/lib/python3.7/dist-packages (from requests->fastai) (2.10)\n",
            "Requirement already satisfied: certifi>=2017.4.17 in /usr/local/lib/python3.7/dist-packages (from requests->fastai) (2022.6.15)\n",
            "Requirement already satisfied: chardet<4,>=3.0.2 in /usr/local/lib/python3.7/dist-packages (from requests->fastai) (3.0.4)\n",
            "Requirement already satisfied: urllib3!=1.25.0,!=1.25.1,<1.26,>=1.21.1 in /usr/local/lib/python3.7/dist-packages (from requests->fastai) (1.24.3)\n",
            "Requirement already satisfied: blis<0.8.0,>=0.7.8 in /usr/local/lib/python3.7/dist-packages (from thinc<8.2.0,>=8.1.0->spacy<4->fastai) (0.7.8)\n",
            "Requirement already satisfied: click<9.0.0,>=7.1.1 in /usr/local/lib/python3.7/dist-packages (from typer<0.5.0,>=0.3.0->spacy<4->fastai) (7.1.2)\n",
            "Requirement already satisfied: MarkupSafe>=0.23 in /usr/local/lib/python3.7/dist-packages (from jinja2->spacy<4->fastai) (2.0.1)\n",
            "Requirement already satisfied: kiwisolver>=1.0.1 in /usr/local/lib/python3.7/dist-packages (from matplotlib->fastai) (1.4.4)\n",
            "Requirement already satisfied: cycler>=0.10 in /usr/local/lib/python3.7/dist-packages (from matplotlib->fastai) (0.11.0)\n",
            "Requirement already satisfied: python-dateutil>=2.1 in /usr/local/lib/python3.7/dist-packages (from matplotlib->fastai) (2.8.2)\n",
            "Requirement already satisfied: six>=1.5 in /usr/local/lib/python3.7/dist-packages (from python-dateutil>=2.1->matplotlib->fastai) (1.15.0)\n",
            "Requirement already satisfied: pytz>=2017.3 in /usr/local/lib/python3.7/dist-packages (from pandas->fastai) (2022.2.1)\n",
            "Requirement already satisfied: threadpoolctl>=2.0.0 in /usr/local/lib/python3.7/dist-packages (from scikit-learn->fastai) (3.1.0)\n",
            "Requirement already satisfied: joblib>=0.11 in /usr/local/lib/python3.7/dist-packages (from scikit-learn->fastai) (1.1.0)\n",
            "--2022-09-03 12:08:36--  https://github.com/PyThaiNLP/wisesight-sentiment/archive/master.zip\n",
            "Resolving github.com (github.com)... 140.82.112.4\n",
            "Connecting to github.com (github.com)|140.82.112.4|:443... connected.\n",
            "HTTP request sent, awaiting response... 302 Found\n",
            "Location: https://codeload.github.com/PyThaiNLP/wisesight-sentiment/zip/refs/heads/master [following]\n",
            "--2022-09-03 12:08:36--  https://codeload.github.com/PyThaiNLP/wisesight-sentiment/zip/refs/heads/master\n",
            "Resolving codeload.github.com (codeload.github.com)... 140.82.113.10\n",
            "Connecting to codeload.github.com (codeload.github.com)|140.82.113.10|:443... connected.\n",
            "HTTP request sent, awaiting response... 200 OK\n",
            "Length: unspecified [application/zip]\n",
            "Saving to: ‘master.zip’\n",
            "\n",
            "master.zip              [     <=>            ]   6.07M  3.76MB/s    in 1.6s    \n",
            "\n",
            "2022-09-03 12:08:38 (3.76 MB/s) - ‘master.zip’ saved [6365495]\n",
            "\n",
            "Archive:  master.zip\n",
            "66eb261de09f88e842ae57bee0b8471ae2c30c1f\n",
            "   creating: wisesight-sentiment-master/\n",
            "  inflating: wisesight-sentiment-master/.gitignore  \n",
            "  inflating: wisesight-sentiment-master/LICENSE  \n",
            "  inflating: wisesight-sentiment-master/README.md  \n",
            "  inflating: wisesight-sentiment-master/exploration.ipynb  \n",
            "   creating: wisesight-sentiment-master/huggingface/\n",
            " extracting: wisesight-sentiment-master/huggingface/data.zip  \n",
            "  inflating: wisesight-sentiment-master/huggingface/process_huggingface.ipynb  \n",
            "   creating: wisesight-sentiment-master/kaggle-competition/\n",
            "  inflating: wisesight-sentiment-master/kaggle-competition/README.md  \n",
            "  inflating: wisesight-sentiment-master/kaggle-competition/competition.ipynb  \n",
            "  inflating: wisesight-sentiment-master/kaggle-competition/test.txt  \n",
            "  inflating: wisesight-sentiment-master/kaggle-competition/test_label.txt  \n",
            "  inflating: wisesight-sentiment-master/kaggle-competition/test_majority.csv  \n",
            "  inflating: wisesight-sentiment-master/kaggle-competition/test_solution.csv  \n",
            "  inflating: wisesight-sentiment-master/kaggle-competition/text_generation.ipynb  \n",
            "  inflating: wisesight-sentiment-master/kaggle-competition/train.txt  \n",
            "  inflating: wisesight-sentiment-master/kaggle-competition/train_label.txt  \n",
            "  inflating: wisesight-sentiment-master/kaggle-competition/train_model.py  \n",
            "  inflating: wisesight-sentiment-master/neg.txt  \n",
            "  inflating: wisesight-sentiment-master/neu.txt  \n",
            "  inflating: wisesight-sentiment-master/pos.txt  \n",
            "  inflating: wisesight-sentiment-master/q.txt  \n",
            "   creating: wisesight-sentiment-master/word-tokenization/\n",
            "  inflating: wisesight-sentiment-master/word-tokenization/README.md  \n",
            "  inflating: wisesight-sentiment-master/word-tokenization/data-preparation-and-post-processing.ipynb  \n",
            "  inflating: wisesight-sentiment-master/word-tokenization/wisesight-1000-samples-tokenised.label  \n",
            "  inflating: wisesight-sentiment-master/word-tokenization/wisesight-1000-samples-tokenised.txt  \n",
            "  inflating: wisesight-sentiment-master/word-tokenization/wisesight-160-samples-tokenised.label  \n",
            "  inflating: wisesight-sentiment-master/word-tokenization/wisesight-160-samples-tokenised.txt  \n",
            "master.zip  sample_data  wisesight_data  wisesight-sentiment-master\n",
            "competition.ipynb  test_majority.csv  text_generation.ipynb  train.txt\n",
            "README.md\t   test_solution.csv  train_label.txt\n",
            "test_label.txt\t   test.txt\t      train_model.py\n"
          ]
        }
      ],
      "source": [
        "!pip install sklearn_crfsuite\n",
        "!pip install emoji\n",
        "!pip install https://github.com/PyThaiNLP/pythainlp/archive/dev.zip\n",
        "!pip install fastai\n",
        "!wget https://github.com/PyThaiNLP/wisesight-sentiment/archive/master.zip\n",
        "!unzip master.zip\n",
        "!mkdir wisesight_data; ls\n",
        "!cd wisesight-sentiment-master/kaggle-competition; ls"
      ]
    },
    {
      "cell_type": "code",
      "execution_count": null,
      "metadata": {
        "id": "xrR1dB2qihbz",
        "colab": {
          "base_uri": "https://localhost:8080/"
        },
        "outputId": "b190c2fe-2d7a-4c78-9249-4d8de1c9d2c8"
      },
      "outputs": [
        {
          "output_type": "stream",
          "name": "stdout",
          "text": [
            "--2022-09-03 12:08:42--  https://github.com/Phonbopit/sarabun-webfont/raw/master/fonts/thsarabunnew-webfont.ttf\n",
            "Resolving github.com (github.com)... 140.82.121.3\n",
            "Connecting to github.com (github.com)|140.82.121.3|:443... connected.\n",
            "HTTP request sent, awaiting response... 302 Found\n",
            "Location: https://raw.githubusercontent.com/Phonbopit/sarabun-webfont/master/fonts/thsarabunnew-webfont.ttf [following]\n",
            "--2022-09-03 12:08:43--  https://raw.githubusercontent.com/Phonbopit/sarabun-webfont/master/fonts/thsarabunnew-webfont.ttf\n",
            "Resolving raw.githubusercontent.com (raw.githubusercontent.com)... 185.199.109.133, 185.199.108.133, 185.199.110.133, ...\n",
            "Connecting to raw.githubusercontent.com (raw.githubusercontent.com)|185.199.109.133|:443... connected.\n",
            "HTTP request sent, awaiting response... 200 OK\n",
            "Length: 98308 (96K) [application/octet-stream]\n",
            "Saving to: ‘thsarabunnew-webfont.ttf’\n",
            "\n",
            "thsarabunnew-webfon 100%[===================>]  96.00K  --.-KB/s    in 0.02s   \n",
            "\n",
            "2022-09-03 12:08:43 (6.15 MB/s) - ‘thsarabunnew-webfont.ttf’ saved [98308/98308]\n",
            "\n",
            "cp: cannot create regular file '/usr/local/lib/python3.6/dist-packages/matplotlib/mpl-data/fonts/ttf/': No such file or directory\n"
          ]
        }
      ],
      "source": [
        "#snippet to install thai font in matplotlib from https://gist.github.com/korakot/9d7f5db632351dc92607fdec72a4953f\n",
        "import matplotlib\n",
        "!wget https://github.com/Phonbopit/sarabun-webfont/raw/master/fonts/thsarabunnew-webfont.ttf\n",
        "!cp thsarabunnew-webfont.ttf /usr/local/lib/python3.6/dist-packages/matplotlib/mpl-data/fonts/ttf/\n",
        "!cp thsarabunnew-webfont.ttf /usr/share/fonts/truetype/\n",
        "matplotlib.font_manager._rebuild()\n",
        "matplotlib.rc('font', family='TH Sarabun New')"
      ]
    },
    {
      "cell_type": "code",
      "execution_count": null,
      "metadata": {
        "id": "Zs8wtP0m6z5O",
        "outputId": "b4831287-3bdd-468f-cb8a-be4e8237eebb",
        "colab": {
          "base_uri": "https://localhost:8080/",
          "height": 149,
          "referenced_widgets": [
            "447db7ba36a7430aa6b5f113ae1b332e",
            "9112bb6e15b84645968b9fb2bd3cd0e9",
            "7791a486651f473d84285f0281c83ea3",
            "5aeff5f5fbc0449ab7feee6a1fe275e6",
            "8e4c22677ec248449044abea6bd8d45c",
            "e72cfcc2613a4446a0c1190d0eb07854",
            "eaa8363e301a4568ad181311371bc984",
            "318d4859e85940eeb4e70fe793fb50c1",
            "f675a3a1c084470da3699693252d7b24",
            "11b8fe12c6ce4152a4be6c3f6948555b",
            "63a599b0608f4a04ad0fddaa0c36ff08",
            "421710e20431452eb58c2e9c6f86de5f",
            "b7975cef7cd24bea8c7c0b467b10596d",
            "651c7eb79cb04f988b27ae7a0dc1a529",
            "8dc8ef63476a44ee811523e1f72fd037",
            "1264c6ad97af416fa28d997123bc9e4e",
            "4c93bfde88d54173883576285d328506",
            "9020c43d685049099a334ecc6ca5741a",
            "01ef780b58b341edac422f096a84353d",
            "f2a63025ddca431cb704e29b39e37fbe",
            "cbf6b3b320d94fc885270268cf7350fc",
            "d7e07f3eeeb1440a95643219f839018a"
          ]
        }
      },
      "outputs": [
        {
          "output_type": "stream",
          "name": "stdout",
          "text": [
            "Corpus: wiki_lm_lstm\n",
            "- Downloading: wiki_lm_lstm 0.32\n"
          ]
        },
        {
          "output_type": "display_data",
          "data": {
            "text/plain": [
              "  0%|          | 0/1050919089 [00:00<?, ?it/s]"
            ],
            "application/vnd.jupyter.widget-view+json": {
              "version_major": 2,
              "version_minor": 0,
              "model_id": "447db7ba36a7430aa6b5f113ae1b332e"
            }
          },
          "metadata": {}
        },
        {
          "output_type": "stream",
          "name": "stdout",
          "text": [
            "Corpus: wiki_itos_lstm\n",
            "- Downloading: wiki_itos_lstm 0.32\n"
          ]
        },
        {
          "output_type": "display_data",
          "data": {
            "text/plain": [
              "  0%|          | 0/1530484 [00:00<?, ?it/s]"
            ],
            "application/vnd.jupyter.widget-view+json": {
              "version_major": 2,
              "version_minor": 0,
              "model_id": "421710e20431452eb58c2e9c6f86de5f"
            }
          },
          "metadata": {}
        }
      ],
      "source": [
        "%load_ext autoreload\n",
        "%autoreload 2\n",
        "\n",
        "import numpy as np\n",
        "import pandas as pd\n",
        "\n",
        "from pythainlp import word_tokenize\n",
        "from tqdm import tqdm_notebook\n",
        "from pythainlp.ulmfit import process_thai\n",
        "\n",
        "#viz\n",
        "import matplotlib.pyplot as plt\n",
        "import seaborn as sns"
      ]
    },
    {
      "cell_type": "code",
      "execution_count": null,
      "metadata": {
        "id": "wK8WHPrEihb_",
        "outputId": "1dc0864b-f73b-45a5-dafa-4e8ddae593f4",
        "colab": {
          "base_uri": "https://localhost:8080/"
        }
      },
      "outputs": [
        {
          "output_type": "execute_result",
          "data": {
            "text/plain": [
              "['น้อง', 'เจน', 'เปิดโลก']"
            ]
          },
          "metadata": {},
          "execution_count": 4
        }
      ],
      "source": [
        "from pythainlp.ulmfit import *\n",
        "process_thai(\"น้องเจนเปิดโลก\")"
      ]
    },
    {
      "cell_type": "markdown",
      "metadata": {
        "id": "71ZMt4_h6z5U"
      },
      "source": [
        "## Process Text Files to CSVs"
      ]
    },
    {
      "cell_type": "code",
      "execution_count": null,
      "metadata": {
        "colab": {
          "base_uri": "https://localhost:8080/"
        },
        "id": "4NNjkF3i6z5U",
        "outputId": "365f23db-e71b-4979-8722-e2c9c9311981",
        "scrolled": true
      },
      "outputs": [
        {
          "output_type": "execute_result",
          "data": {
            "text/plain": [
              "(24063, 2)"
            ]
          },
          "metadata": {},
          "execution_count": 51
        }
      ],
      "source": [
        "with open(\"wisesight-sentiment-master/kaggle-competition/train.txt\") as f:\n",
        "    texts = [line.strip() for line in f.readlines()]\n",
        "\n",
        "with open(\"wisesight-sentiment-master/kaggle-competition/train_label.txt\") as f:\n",
        "    categories = [line.strip() for line in f.readlines()]\n",
        "\n",
        "all_df = pd.DataFrame({\"category\":categories, \"texts\":texts})\n",
        "all_df.to_csv('all_df.csv',index=False)\n",
        "all_df.shape"
      ]
    },
    {
      "cell_type": "code",
      "execution_count": null,
      "metadata": {
        "colab": {
          "base_uri": "https://localhost:8080/"
        },
        "id": "E3Ww3CIi6z5X",
        "outputId": "eebec855-b01c-4bd8-cb6a-35755e51fd50"
      },
      "outputs": [
        {
          "output_type": "execute_result",
          "data": {
            "text/plain": [
              "(2674, 2)"
            ]
          },
          "metadata": {},
          "execution_count": 52
        }
      ],
      "source": [
        "with open(\"wisesight-sentiment-master/kaggle-competition/test.txt\") as f:\n",
        "    texts = [line.strip() for line in f.readlines()]\n",
        "\n",
        "cat_test = pd.read_csv(\"wisesight-sentiment-master/kaggle-competition/test_majority.csv\")\n",
        "\n",
        "test_df = pd.DataFrame({\"category\":cat_test[\"Class\"], \"texts\":texts})\n",
        "test_df.shape"
      ]
    },
    {
      "cell_type": "markdown",
      "metadata": {
        "id": "E5rbH6aJ6z5a"
      },
      "source": [
        "## Load Data"
      ]
    },
    {
      "cell_type": "code",
      "execution_count": null,
      "metadata": {
        "id": "yhQ6MX7U6z5a"
      },
      "outputs": [],
      "source": [
        "all_df[\"processed\"] = all_df.texts.map(lambda x: \"|\".join(process_thai(x)))\n",
        "all_df[\"wc\"] = all_df.processed.map(lambda x: len(x.split(\"|\")))\n",
        "all_df[\"uwc\"] = all_df.processed.map(lambda x: len(set(x.split(\"|\"))))\n",
        "\n",
        "test_df[\"processed\"] = test_df.texts.map(lambda x: \"|\".join(process_thai(x)))\n",
        "test_df[\"wc\"] = test_df.processed.map(lambda x: len(x.split(\"|\")))\n",
        "test_df[\"uwc\"] = test_df.processed.map(lambda x: len(set(x.split(\"|\"))))"
      ]
    },
    {
      "cell_type": "markdown",
      "source": [
        "### Create test set"
      ],
      "metadata": {
        "id": "g95PjRVJoFo5"
      }
    },
    {
      "cell_type": "code",
      "source": [
        "from google.colab import auth\n",
        "auth.authenticate_user()\n",
        "\n",
        "import gspread\n",
        "from google.auth import default\n",
        "creds, _ = default()\n",
        "\n",
        "gc = gspread.authorize(creds)\n",
        "\n",
        "worksheet = gc.open('เมื่อวานเป็นไงบ้างงงง (การตอบกลับ)').sheet1\n",
        "\n",
        "# get_all_values gives a list of rows.\n",
        "rows = worksheet.get_all_values()\n",
        "print(rows)\n",
        "\n",
        "# Convert to a DataFrame and render.\n",
        "import pandas as pd\n",
        "df = pd.DataFrame(rows)\n",
        "df.drop(df.index[0:1], inplace=True)\n",
        "df.columns = [\"ประทับเวลา\", \"เล่าให้ฟังหน่อย\", \"ประสบการณ์ที่ดีที่อยากเล่า\", \"เรื่องที่อยากระบาย\", \"catergory\"]\n",
        "df.index -= 1\n",
        "df"
      ],
      "metadata": {
        "colab": {
          "base_uri": "https://localhost:8080/",
          "height": 456
        },
        "id": "TeWs3iBKoMSq",
        "outputId": "72737696-b365-4391-ba32-0723efe9f933"
      },
      "execution_count": null,
      "outputs": [
        {
          "output_type": "stream",
          "name": "stdout",
          "text": [
            "[['ประทับเวลา', 'เล่าให้ฟังหน่อย', 'ประสบการณ์ที่ดีที่อยากเล่า', 'เรื่องที่อยากระบาย', 'catergory'], ['20/8/2022, 14:42:33', 'เมื่อวานก็เฉยๆ ไม่ได้มีอะไรมาก', '', '', 'neu'], ['20/8/2022, 14:47:32', 'ก็โอเคนะ', 'มีเด็กกลับบ้านคนนึง รู้สึกดีที่เค้านอนอยู่ในบ้าน', 'เพลียกะเด็กอีกคนที่ไม่สนใจเรียน น้ำมันราคาแพง ลูกค้างี่เง่า', 'neu'], ['20/8/2022, 14:48:12', 'เมื่อวานผ่านไปอย่างเรียบๆแต่รู้สึกว่าชีวิตได้พัฒนาขึ้นละมั้ง', 'เหมือนในห้องมีกลุ่มที่มาดิสคัสหัวข้อการเรียนกับเรา พอได้แบ่งปันเนื้อหาและความกังวลในวิชากับเพื่อนก็สบายใจขึ้น', '', 'neu'], ['20/8/2022, 14:48:28', 'Happyดี ได้อยู่กับสิ่งที่ชอบทั้งวัน มีเรื่องให้เครียดบ้างเป็นปกติ', 'ได้อยู่กับเพื่อน ทำอะไรโง่ๆ', '', 'pos'], ['20/8/2022, 14:49:51', 'เมื่อวานมีความสุขดีไปเรียน แล้วก็กลับมานอนดูหนังที่บ้าน ตอนเย็นได้ออกไปกินข้าวกับเพื่อนๆ', 'ได้ไปกินข้าวกับเพื่อน ได้เจอเพื่อนที่ไม่ได้เจอกันนาน ได้กินข้าวพร้อมกับเพื่อนๆในรอบหลายเดือน', '', 'pos'], ['20/8/2022, 14:49:55', 'รู้สึกดีมากๆ เป็นปีที่สุดท้ายที่ได้ลงแข่งประกวดชุดรีไซเคิล ปีนี้เป็นปีสุดท้ายสามารถเอาชนะใจกรรมการได้ ปิดตำนานด้วยตำแหน่งชนะเลิศอันดับ1 แถมยังแข่งSci Show ได้ที่1ของระดับม.ปลายอีด้วน', 'ปิดตำนานนางรอง ปีนี้เราแข่งขันชุดรีไซเคิลปีนี้ได้ที่1', 'เหนื่อย เต็มที่กับทุกๆอย่าง แต่เรื่องเรียนตอนนี้หมดไฟมากๆ รู้สึกอยากเต็มที่กับการเข้ามหาลัยแต่การเรียนการสอบที่รร.ตอนนี้ฉุดตัวเรามาก', 'pos'], ['20/8/2022, 14:50:50', 'ก็ดีครับ แค่ไม่ค่อยได้ยินเสียงตัวเองกับเสียงเพื่อนตอนเล่นเท่าไหร่ครับ', 'อยู่บนเวทีแล้วทุกคนในวงเต็มที่กันมากครับภูมิใจในตัวเองแล้วก็ในตัวเพื่อนครับ', 'เพื่อนไม่ค่อยดังแล้วที่มันเป็นไลน์ร้องหลักพอขาดไปเหลือแต่ไลน์ประสานฮุคนั้นเลยฟังดูไม่สุดเท่ามีไลน์ร้องหลักครับ', 'neu'], ['20/8/2022, 14:51:25', 'เมื่อวานก็เศร้ากับตัวเองนิดหน่อย อยู่ๆตัวเองก็ไม่มีเหตุผล', 'แต่เมื่อวานได้ไปดูหนังห้องเพื่อนด้วยย ปกติช่วงนี้จะไม่ออกจากห้องง', 'อืมมม ไม่ชอบความสัมพันธ์ที่อยู่ๆจะมาก็มาจะไปก็ไปเลยอะ คนอยู่ตลอดมันทำตัวไม่ถูกกก', 'neg'], ['20/8/2022, 14:51:51', 'เมื่อวานไปเรียนที่มอมาครับ ก็ปกตินะ พอกลับบ้านมาอยากเล่นเกมสักหน่อยเพราะงานเสร็จแล้ว ก็เลยชวนเพื่อนครับ แต่ไม่มีใครว่างเล่นด้วยเลยต้องเล่นคนเดียว ดูเหงาเนอะแต่ก็ชินแล้วล่ะ', 'ไม่กี่วันก่อนอ่านเว็บตูนเรื่องthe boxerจบไป สนุกมากครับ ต้องลองอ่านดูสักครั้งนะ', 'ก็ไม่มีนะ แค่พอโตขึ้นเพื่อนที่เล่นเกมด้วยกันก็ค่อยๆหายไป มันทำให้เศร้ามากจนอยากร้องไห้เลยล่ะ แต่ว่าทำไงได้ล่ะ คนเรามีเป้าหมายไม่เหมือนกันนี่เนอะ5555', 'neu'], ['20/8/2022, 14:52:06', 'เหงื่อแตกตอนเล่นครับ 🥵\\nขาสั่นตลอด', 'วงเฮฮาดีครับ ', '', 'neu'], ['20/8/2022, 14:52:24', 'เป็นวันที่งานเยอะมาก ๆ ', 'ท่ามกลางงานที่เยอะ ก็มีกำลังใจที่ดี ๆ จากครอบครัว', '', 'neu'], ['20/8/2022, 14:54:54', 'ก็เหนื่อยครับ ไม่ค่อยนอนเท่าไหร่', 'ลงแรงค์ ชนะ และ ก็อ่อทำการบ้าน มั้งครับ', 'สุ่มกาชาแล้วเกลือ อ่ะครับ เกลือจนตอนนี้บวมน้ำแล้วครับ', 'neu'], ['20/8/2022, 14:55:53', 'เมื่อวานก็เป็นอักวันนึงที่ได้ไปโรงเรียนเจอเพื่อนๆ แล้วก็ไปเรียนพิเศษ พอตอนเย็นก็มาทำงานได้รู้จักกับคนใหม่ๆ', 'ให้เพื่อนยืมผ้าห่ม+คิดว่าเมื่อวานจัดการกับตารางตัวเองได้ดี', 'มีเพื่อนคนนึงที่คิดว่าก่อนหน้านี้เราคุยกันเยอะกว่านี้ แต่ว่าในตอนนี้ได้คุยกันน้องลง พยายามชวนคุยอยู่แต่เวลาพยายามอยู่คนเดียวมันก็เหนื่อย\\U0001f979', 'pos'], ['20/8/2022, 14:55:59', 'เป็นวันที่สนุกครับ  เลิก10:30 มาเล่นบาสกับเพื่อนถึง13:00 ได้ไปกินไก่KFCกับเพื่อนๆอีกครับ  นับเป็นวันที่ดีวันนึงเลย', 'ได้เล่นบาสอย่างสนุกสนาน', 'เมื่อวานผม…ได้ไปรู้ว่าทีเพื่อนที่สนิทเอาผมออกจากโคลสเฟรนด์ ซึ่ง มันเสียใจเเละงงมากว่าเพราะอะไร ', 'pos'], ['20/8/2022, 14:56:30', 'ได้เล่นดนตรีบนเวทีใหญ่พร้อมกับวงที่ตั้งเอง', 'ได้เล่นเพลงกับเพื่อน', 'อยากให้เพื่อนซ้อมมามากกว่านี้', 'pos'], ['20/8/2022, 14:56:42', 'เป็นวันที่เหนื่อยมากกก ทำแลปเกือบทั้งวัน แต่มีเพื่อนคอยฮีลใจช่วยทำให้ตัวเองดีขึ้นมากๆล่ะ', 'แลปที่ดีคือแลปที่ต้องอ่าบรีพ+ส่งงานตรงต่อเวลา', 'ทำไมแลปโหดจัง', 'pos'], ['20/8/2022, 14:57:10', 'เมื่อวานก็เป็นวันที่ไปรร.วันสุดท้าย ก่อนจะได้หยุดพักเสาร์อาทิตย์ จริงๆเรียนไปแค่ครึ่งวันแล้วก็ทำกิจกรรมกีฬาสีที่รร.ต่ออีกประมาณ2ชม. กลับบ้านมาก็เรียนพิเศษบ้าง จริงๆก็เหมือนกับทุกๆในช่วงนี้เลย', 'น่าจะเป็นบรรยากาศที่นั่งเรียนในห้องเรียน ตอนแรกคิดไว้ว่าม6ทุกคนต้องแข่งกันเข้ามหาลัยแน่เลย แต่ดีใจมากๆที่เพื่อนในห้องน่ารักแล้วก็อยู่ด้วยแล้วสบายใจมากๆ', '', 'neu'], ['20/8/2022, 14:57:40', 'ปกติสุขดี\\nตามชีวิตประจำว้นของทุกๆวัน\\nฝนตกนิดหน่อย รถไม่ติด ไม่หงุดหงิด', 'เจอเพื่อนฝูงที่เป็นมิตร', 'อึดอัดอยากลดน้ำหนัก', 'neu'], ['20/8/2022, 14:57:46', 'เหนื่อยมาก สภาพแบบคนนอนน้อยแต่นอนไม่ได้เพราะโปรเจคค้ำคอ รู้สึกชีวิตมีอะไรให้ทำเยอะมาก', 'ได้เข้าไปคุยส่วนตัวกับอาจารย์ ก็รู้สึกสนิทกันมากขึ้น', 'อ.ขี้แซะ ตอนแรกจากแซวก็เริ่มไม่โอเคจนใช้คำว่าแซะได้แล้ว เป็นการสนิทขึ้นที่มีจุดที่ไม่ชอบอ.เพิ่มมากขึ้นเหมือนกัน', 'neg'], ['20/8/2022, 14:57:58', 'สบายๆ', 'หลายเรื่อง', 'ไม่ค่อยมี', 'neu'], ['20/8/2022, 14:58:40', 'ดีมากๆ', 'ได้ไปทำบุญ', 'เบื่อมากฝนตกบ่อยช่วงนี้', 'neu'], ['20/8/2022, 14:58:43', 'ผมหิวข้าวครับ', 'ข้าวเซเว่นก็อร่อยครับ', 'กระเพราคั่วไก่เซเว่นไม่อร่อยเลยครับ', 'neu'], ['20/8/2022, 14:59:30', 'ไปกินเนื้อย่างกับเพื่อน', 'ไปเที่ยวสยามกับสุดสวย', '', 'neu'], ['20/8/2022, 15:01:12', 'จริงไปก็เครียดมากเพราะเป็นม.2วงเดียวไปแข่งกับพี่ๆแถมพึ่งตั้งวงมาแค่อาทิตย์เดียวแต่ก็สนุกดีครับ', 'ที่รร.เก่าผมก็อยู่กับแค่รุ่นพี่ไม่เคยตั้งวงกับรุ่นเดียวกันเลย ก็ถือว่าเป็นประสบการณ์ที่ดีเหมือนครับ', 'เหนื่อยมาก ต้องเล่น2เพลงภายใน1อาทิตย์ไม่ได้ไต่แรงค์เลยยย55', 'pos'], ['20/8/2022, 15:01:20', 'เมื่อวานก็ดำเนินชีวิตเช่นทุกวันเลย', 'ประสบการณ์ที่ดีตอนนี้ก็คงจะกำลังจะได้เป็นแม่คนแหละมั้ง ตื่นเต้นอยู่นะ', 'วันนี้ไปอัลตร้าซาวน์มาแล้วพบความผิดปกติ เลยมีความกังวลมากมาก แต่ก็ต้องผ่านไปให้ได้ ', 'neu'], ['20/8/2022, 15:02:11', 'คืองานเยอะมากเลย วิ่งวุ่นทั้งวัน เหนื่อยด้วยแหละแต่ก็ดีที่มีเพื่อน พี่ และน้องคอยเป็นความสุขให้กับเราอยู่เสมอ', 'การกินอาหารร่วมกับเพื่อน พี่ และน้องนี่แหละคือความสุข', 'งานเยอะมาก อยากหาคนมาช่วยทำ แต่ก็เบื่อคนไม่ชอบทำงานด้วยเช่นกัน', 'pos'], ['20/8/2022, 15:05:33', 'เมื่อวานเป็นวันที่น่าเบื่อนิดหน่อย ตื่นมาก็ไม่มีเป้าหมายที่จะทำเลยทั้งวัน เลยลุกขึ้นมาเล่นเกม เล่นไปสักพัก น้องโพก็ให้ออกไปรับที่รด.ค่อยรู้สึกแฮปปี้ขึ้นมาหน่อย เพราะว่าจะได้เจอคนอื่น ไปเจอน้องๆที่สนิท แล้วไปนั่งคุยนั่งเล่น กันจนถึงตีสี่ค่อยนอน', 'การที่ได้นั่งขับรถแล้วมีน้องๆหลายๆคนนั่งอยู่ในรถไปด้วยกันเป็นความรู้สึกที่ดีมากๆเลย เพราะว่าเหมือนเราได้เอนจอยกับทุกคน คุยกัน ร้องเพลงกัน หยอกกันไปทั้งทาง ชอบโมเมนต์แบบนี้มากๆ รู้สึกดีมากๆ', 'คงเป็นเรื่องที่คนที่เราสนิท ชอบปิดบังเราไม่ให้โลกเห็น เหมือนไม่อยากให้คนอื่นรู้ ว่าเราสนิทกัน ซึ่งไม่ว่าจะด้วยเหตุผลอะไรก็ตาม มันเป็นการกระทำที่ทำให้เสียความรู้สึก เป็น toxic relationship', 'neg'], ['20/8/2022, 15:06:46', 'เมื่อวานที่ 512 มีเดกเล้ก 1 คน คลั่งรักมากก เเบบหวานสะบัดเลย อะหุ อะหุ รอเจนกลับมาอยู่นะคั้บ 💖💖💖', 'ฝนตกหนักมาก เเต่ผ้ายังรอดนะคั้บ', 'มันจะมีอยู่ 1 คน ที่คลั่งรัก ชห เเละคนคุยก็คลั่งรักมากเช่นกัน😏😏😏', 'neu'], ['20/8/2022, 15:06:56', 'เหนื่อยนะ หรือว่าจะเหมือนกับทุกวัน', 'รถติดมาก แต่พอรู้ว่าติดเพราะรถรอเข้าปั๊ม เพราะพรุ่งนี้น้ำมันขึ้นราคา ก็เข้าใจเลิกหงุดหงิด', 'กล้าปฏิเสธกิจกรรมบ้าง แม้ลำบากใจ ก็ทำให้อะไรๆมันลงตัวขึ้น', 'neg'], ['20/8/2022, 15:07:57', 'เมื่อวานเหนื่อยคับ', 'ได้เดินซุ้มนิทรรศการเยอะเยอะเลย สนุกมากๆ🤩', '', 'neg'], ['20/8/2022, 15:10:05', 'เมื่อวาน 17.00 น. เกือบโดนรถขนดินชน รู้สึกแย่มาก ขับมาสด้าป้ายแดงไปรับลูกที่โรงเรียน\\n\\nเป็นคนขับรถไม่เก่ง ขับช้ามาก ขับไม่คล่อง เป็นคนไม่กล้า ไม่เคยขับออกถนนใหญ่ เมื่อวานเย็น พอรับลูกขึ้นรถ ก็เปิดไฟเลี่ยวซ้าย ค่อย ๆ เลี้ยงรถออกช้า ๆ ก็ว่ามองขวาแล้วนะ พอออกพ้นรั้วโรงเรียน รถบรรทุกดิน 6 ล้อ ขับมาอย่างเร็ว (แต่ไม่มีดินในรถ) เฉี่ยวหน้ารถไป แบบแตะเบรคทัน โชคดีเป็นคนขับรถช้าอยู่แล้ว\\n\\nพยายามไม่ตกใจ กลัวลูกตกใจไปด้วย รู้สึกจิตใจคนแย่ หน้าโรงเรียน ก็รู้อยู่แล้วว่า ต้องชะลอ ผู้ปกครองจะชะลอกันหมด รถบรรทุกดินคงเห็นว่าทุกคันช้า ตัวเองเลยซิ่งได้สบายเลย อยากให้มีจิตสำนึก รู้ผิดรู้ถูกบ้าง', 'หลัง covid ไม่ค่อยได้ไปเที่ยวไหนเลย ประสบการณ์ที่ดีมีน้อยลง มีความสุขแค่เห็นลูกไปโรงเรียน เล่าเรื่องเพื่อน ๆ เล่าเรื่องคุณครูแบบฮาฮา ถือว่าเป็นประสบการณ์ที่ดี ณ เวลานี้ค่ะ', 'มีมากมายหลายเรื่อง แต่ไม่กล้าระบาย', 'neg'], ['20/8/2022, 15:11:27', 'วันนี้วันหยุดได้นอนตื่นสาย ดีจัง', 'ได้เป็นแม่ที่เฝ้ามองลูกเติบโตอย่างดี', '', 'pos'], ['20/8/2022, 15:11:38', 'เมื่อวานไปโรงเรียนแต่ไม่เรียนหรอกนะเพราะเรานอนทั้งวันเลย555 ก่อนหน้านั้นมีงานเต็มไปหมด เมื่อวานว่างกว่าหลายๆวันที่ผ่านมาบวกกับล้ามากด้วย เลยนอนทั้งวันเลย เก็บแรงมา Hackathon ต่อวันนี้', 'ได้เข้ามารู้จักเพื่อนใหม่ๆที่ hackathon ', '', 'pos'], ['20/8/2022, 15:11:57', 'ไม่บอก', 'ไม่บอก', 'ไก่กับไข่อะไรเกิดก่อนกัน', 'neu'], ['20/8/2022, 15:13:44', 'เป็นวันการเรียนการสอนธรรมดาหลังจากจบงานสัปดาห์วิทยาศาสตร์ที่แสนเหน็ดเหนื่อย ยังปรับตัวกลับสู่โลกการเรียนปกติไม่ได้เต็มร้อย และระลึกว่ามีงานค้างเยอะกว่าที่คิด 😳', 'ได้คุยเล่นกับเพื่อนใน Discord หลังจากที่ไม่ได้คุยแบบเสียงมานานเพราะเพื่อนติดโควิดหมด', 'เหนื่อยกับการเรียน เพื่อนเล่นมุกกับครูทุกๆสามวิจนเรียนไม่รู้เรื่อง 🥺', 'neu'], ['20/8/2022, 15:14:41', 'ดี งานเยอะ', 'พึ่งได่นอนนน', 'ง่วงงงงง', 'neg'], ['20/8/2022, 15:18:10', 'เป็นวันที่ไม่ได้นอนเลย แต่ก็ไม่ได้ง่วงขนาดนั้นอะ นั่งเรียนไปเรื่อย เล่นไปเรื่อย กลับบ้านมานอนแล้วเรียนต่อ เสร็จแล้วก็นั่งเล่นเกมยาวไป จนเอนตัวลงนอนบนเตียง จบไป 1 วัน...', 'แค่นั่งเรียนกับเพื่อน ๆ ก็เป็นประสบการณ์ที่ดีแล้วแหละ', 'ทำเคมีผิดอะะะะ แค่ใส่สูตรผิดเอง แต่มันผิดอะะ', 'neg'], ['20/8/2022, 15:20:32', 'เมื่อวานก็ไปเรียนปกติ คาบเช้าสบายนะ ถึงตอนแรกจะไม่รู้เรื่อง พอเข้าใจมันก็ทำสนุกอะ พักกินข้าวตอนแรกจะกินร้านนึงแต่เห็นอีกร้านมีไก่เกาหลีเลยไปซื้อร้านนั้นแล้วคนขายเห็นว่ามันแห้งไปก็เลยตักน้ำแกงราดให้แล้วก้ขึ้นห้อง เพื่อนแม่งถูดโฉลกอะไรกับเมาส์ไม่รู้บอกนิ่มดีก็กดเยอะเลยติดใจจริงแน่เลย ตลกอะ ก่อนเริ่มคาบก็พึ่งจะตัดสินใจกดเกมแต่ครูก็มาพยายามรีบตาย แล้วก็กลับห้องนอนเปื่อยๆกินข้าวปวดข้อมือก็เลยจะไปห้องพยาบาลแต่ยังไม่เปิดก็เลยไปเดินก่อนรอบนึงแล้วกลับมา ขึ้นห้องง่วงก็เลยนอนตื่นแล้วก็อาบน้ำสระผมซักผ้าและก็ขึ้นเตียงนอน', 'ไม่มีงาน นอนหลับสบาย', 'ส่วนใหญ่จะเครียดเรื่องการเรียนการสอบ รู้สึกว่าตัวเองเก่งไม่เท่าเพื่อน อ่อน ยิ่งเรียนแล้วไม่เข้าใจก็จะแบบเศร้าา เป็นคนไม่กล้าไปถามจารหรือถามเพื่อน ก็พยายามที่จะถามอยุ่แต่กลัวว่าจะรบกวนเพื่อนหรือป่าว เพื่อนจะรำคาญไหม แต่ถามรูมเมทได้  อีกเรื่องคือรู้สึกว่าตัวเองเป็นคนพูดน้อยแล้วแบบเวลาเพื่อนคุยกันเราก้จะค่อนข้างเงียบ ชอบที่จะฟังมากก\\nว่า หรือไม่ก็ ไม่รู้จะเอาเรื่องอะไรมาคุยกับเพื่อนอ่ะ  ไม่อยากให้เพื่อนรู้สึกว่าตึงใส่ด้วย ตอนมีเรื่องเครียดก็อยากที่จะระบายให้ฟังนะแต่ก้เรียบเรียงออกมาไม่ได้อะ กลัวว่าคนอื่นจะคิดยังไงด้วย ส่วนใหญ่ก้เลยเก้บไว้คนเดียว', 'neu'], ['20/8/2022, 15:23:12', 'เหนื่อยจากรร หลับบ่อยมากในรร งานเยอะจาดด ', 'ดูPolycat แต่ได้แค่ดูหน้าประตู', 'มีเรื่องให้ต้องคิดเยอะเลย ตั้งแต่มหาลัย เรื่องชีวิตหลังจากจบม.ปลาย 🙂\\U0001f972', 'neg'], ['20/8/2022, 15:23:34', 'เมื่อวานก็เป็นวันที่ดีวันนึงเลย ได้ทำอะไรที่มีความสุขเต็มไปหมด ได้อยู่กับตัวเองด้วย', 'คงจะเป็นประสบการณ์ที่เจออยู่ทุกวัน เป็นการที่อยากทำอะไรดีๆให้ใครคนนึง ถึงจะรู้อยู่ในใจแหละว่าเค้าก็คงคิดกับเราแค่เพื่อน มันน่าจะเป็นประสบการณ์ที่ดีแหละมั้ง\\U0001f979', 'ถ้าจะให้ระบายก็คงเป็นเรื่องที่เจอเมื่อไม่นานมานี้ เรื่องที่ไปสมัครปธนรเล่นๆ เอาสนุก แต่ประเด็นคือมันไม่สนุกอย่างที่คิดนี่ดิ;-;; แต่มันก็ผ่านไปแล้วแหละ ดีขึ้นเยอะแล้ว เย่!', 'pos'], ['20/8/2022, 15:25:47', 'สมองเบลอนิดหน่อย แต่พอถึงตอนเย็นมีความสุข สนุกมาก', 'เดินไปส่งอาจารย์ที่หน้าหอ เดินไปหน้ามอไม่ได้ เพราะประตูหอปิดสองทุ่ม', '-', 'neu'], ['20/8/2022, 15:26:44', 'เมื่อวานไปแข่ง Hackathon ที่ Central World มาครับ', 'ได้ไปแข่งกับผู้ใหญ่รุ่นพ่อ ถึงจะแพ้มาแต่เป็นประสบการณ์ที่ดีมากๆครับ', 'เมื่อยขามากๆ ขี้เกียจเดิน', 'neu'], ['20/8/2022, 15:32:01', 'เมื่อวานเป็นวันที่ดีวันนึง เพราะเราเชื่อว่าทุกวันคือวันที่ดีเสมอ', '', '', 'pos'], ['20/8/2022, 15:33:01', 'เมื่อวานนอยด์มาก เพื่อนเข้าใจผิด แล้วมางอนเรา', 'ได้เลิกงานตรงเวลา', 'เพื่อนที่ทำงานก็แค่เพื่อนร่วมงาน  หาความจริงใจยาก ข้างในใจงอนเราแต่หน้ายิ้ม รู้หน้าไม่รู้ใจที่แท้ทรู', 'neg'], ['20/8/2022, 15:34:09', 'งานประจำยังไม่เสร็จ  หัวหน้านัดให้ไปประชุมอีกงาน เวลาทับซ้อนกัน  แก้ปัญหาโดยให้น้องอีกคนเป็นหัวหน้าพาทีมไปประชุมแทน  ซึ่งก็ทันเวลาและเรียบร้อยดี', 'การแก้ปัญหา  คนมีประสบการณ์จะได้เปรียบกว่ามือใหม่', 'งานเยอะก็เหนื่อย  แต่ก็ดีกว่าไม่มีงาน ซึ่งแปลว่าจะไม่มีเงิน😄   ขอให้มีใจรักและสนุกกับงานที่ทำ  ผลก็จะออกมาดี', 'neg'], ['20/8/2022, 15:34:33', 'ก็ดี ก็เเค่วันธรรมดาในโรงเรียน', 'เป็นวันนี้เพื่อนปั่นชื่อพ่อเเม่ได้สุดยอด มันส์จริงๆ5555', 'ก็ไม่น่ามี ในรร.วันๆก้สนุกดีครับ', 'neu'], ['20/8/2022, 15:36:14', 'เมื่อวานดีมาก ใช้ชีวิตแบบว่าง ๆ ทั้งวัน ได้ออกกำลังกายตอนเช้าเสร็จแล้วอาบน้ำสระผมออกมาตากแอร์เย็น ๆ แล้วก็เดินหาอะไรกิน ไปนั่งคุยนั่งเล่นกับเพื่อน รู้สึกเหนื่อยก็ไปนอนกลางวันแล้ววนลูปจนหมดวัน', '', '', 'neu'], ['20/8/2022, 15:37:02', 'มีประชุมทั้งวันเลย ฝนตกหนักตอนเย็น', 'น้องๆในแผนกตั้งใจทำงานมากๆ', 'ประชุมเยอะเกิ้น ไม่มีเวลาทำงานเลย', 'neu'], ['20/8/2022, 15:37:28', 'เจ้านายห่วยๆ เรียกไปคุยว่า จะโปรโมทผู้ช่วยขึ้น แล้วเขาจะคุมเราด้วย ไอ้คนนี้มันคอรัปชันแอบตั้งบริษัทแล้วเอาของมาขายให้บริษัทช่วยซื้อตชอด', 'ไปล่องเรือเจ้าพระยา เห็นวิวกลางคืนวัดอรุณ สะพานพระรามแปด', 'เฉยๆซะกับความเลวของคน ปล่อยให้ความทำลายเขาเอง', 'neg'], ['20/8/2022, 15:38:41', 'เมื่อวานครับผมเดินทางกับบ้านจากการไปค่ายถึงบ้านเสร็จแล้วก็นอนไม่ได้อาบนำ้ด้วย', '-', 'ตอนนั่งรถบัสกลับแอร์แม่งร้อนสัสลืมแปรงสีฟันด้วย', 'neu'], ['20/8/2022, 15:44:04', 'เมา', 'เมากับเพื่อน', 'ทำไมคนเราถึงเล่นกับความรู้สึกได้เก่งจังนะ', 'pos'], ['20/8/2022, 15:48:23', 'ฮาร์โมนิคทำงานได้ไวดีครับดูมีความเชี่ยวชาญ', 'วงทุกวงให้กำลังใจกันและกันดีมากครับ', 'ระบบเสียงคุณภาพยังไม่ดีพอเสียงแอมป์ค่อนข้างบี้ครับ', 'pos'], ['20/8/2022, 16:01:56', 'เมื่อวานออกไปเรียนที่มอมา แต่เรียนแค่ชม.เดียวเอง แอบรู้สึกว่าโคตรจะไม่คุ้มเลย เพราะว่าแบบตื่นเช้าเท่าวันอื่นเหมือนเดิม แต่ก็ดีที่ว่าคาบนี้เรียนรู้เรื่อง(เพราะปกติวิชานี้แอบเรียนไม่ค่อยรู้เรื่อง55555555) แล้วก็ได้นัดกินข้าวกับเพื่อนสมัยมัธยม สนุกดีเหมือนกัน แต่รู้สึกว่าเล่าเรื่องให้เพื่อนฟังเท่าไหร่ก็ไม่หมดสักที5555555 กลับบ้านมาคืออืดมาก เหนื่อยมากไง นอนเร็วเหมือนทุกวันเลย (ตั้งแต่เปิดเทอมคือหัวถึงหมอนปุ๊บหลับปั๊บ) แต่โดยรวมก็เป็นวันที่ดีนะ', 'ล่าสุดไปติ่งคนเดียวมา5555555 ปกติชอบลากเพื่อนไปติ่งด้วย ทั้งๆที่เพื่อนก็ไม่ได้ชอบคนที่เราชอบนะ ไปคนเดียวก็ดีเหมือนกัน รู้สึกโฟกัสเค้าได้เต็มที่ แบบไม่ต้องห่วงหน้าพะวงหลังอะไร ส่วนเค้าก็ยังเป็นศิลปินสองท่านที่น่ารักเหมือนเดิม เหมือนได้กำลังใจในการเติบโต/ในการทำสิ่งต่างๆมากขึ้น แล้วก็ดีใจที่ได้เจอกันอีกแล้ว+อยากไปติ่งอีกแล้วคับ5555555555', 'มีงานที่ทำค้างไว้นานมากกกกก ไม่เสร็จสักที รู้สึกกดดันนิดหน่อย แต่ก็แบบหมดไฟในการทำสิ่งนี้เหมือนกัน แต่ก็อยากทำต่อนะ แต่แค่ไม่มีไอเดียเลย', 'pos'], ['20/8/2022, 16:11:26', 'ก้เป็นวันนึงที่ได้ทำอะไรหลายอย่างดี รสโตขึ้นนิ้ดนึง', 'ตตขึ้นม6มาเหมือนทุกอย่างโดยรวมก้ดีขึ้นหมดเลย ((ทุกด้านจจนะ)) ', 'หื้มๆๆๆคือเเบบเหนื่อยมากเรื่องเรียนเครียดที่ตัวเองไม่เครียดหรือกดดันตัวเองเรื่องเรียนเลยอ่ะ🥺 เเล้วยิ่งเห็นเพือนๆเรียนยิ่งเครี๊ยดดด', 'pos'], ['20/8/2022, 16:14:46', 'เมื่อวานที่จริงเป็นวันที่เราชอบมากเลยค่ะ ได้ใช้เวลากับตัวเองกับเพื่อนๆกับงานศิลปะทั้งวันเลย นอกจากนั้นยังได้มีโอกาศได้รับงานที่อยากทำด้วย มีความสุขสุดๆ หลังเลิกเรียนเราก็ได้ออกไปทานทื้อเย็นข้างนอกกับคุณแม่ อากาศเย็นสบาย ใส่เสื้อผ้าที่เราชอบ แต่ตอนกลับมาบ้านต้องนั่งทำงานต่อสักหน่อยเลยแอบเหนื่อยนิดนึงเพราะงานกลับเป็นว่าใช้เวลาทำนานกว่าที่คิดไปมาก ', '', 'ที่จริงถึงเราจะมีเป้าหมายชัดเจนแค่ไหนว่าเราต้องการทำอะไรตีอในอนาคตแต่พอเอาจริงๆแล้วอะมันก็เหมือนยังหลงๆทางอยู่นิดนึงนะ จะทำยังไงให้ไปถึงจุดนั้นได้ จะเอาแรงที่ไหนมา แล้วที่ทำอยู่มันดีที่สุดที่เราทำได้ไหม ความเป็นไปได้มันเยอะมากจนบางครั้งความกลัวความกังวลก็ทำให้เราเสียเวลาการลงมือทำไป เรากลัวอนาคตสำหรับตัวเองมากๆ ปัจจุบันบางครั้งก็ดูเป็ยภาพเบลอๆที่จำชัดได้ในบางจุดในบางจุดเราก็แถบจำอะไรไม่ได้เลย ส่วนเรื่องการทำงานก็เยอะจนไม่ได้มีเวลามาทำในสิ่งที่ทำให้เรารู้สึกเป็นตัวเองเลย เครียดจังแต่เราก็ผ่านจุดนี้มาหลายรอบแล้วรอบนี้ก็คงเป็นอีกรอบที่เป็นอย่างงั้น', 'pos'], ['20/8/2022, 16:16:51', 'สบายๆ ชิลๆ พักผ่อนนอนเล่นกับลูกหมา', '', '', 'pos'], ['20/8/2022, 16:18:26', 'สนุกดี ก็วงผมก็ซ้อมกันมาเยอะเปลี่ยนเพลงกันเรื่อยๆขนมั่ว55 แต่ก็พอวันจริงก็เล่นกันเต็มที่ดีนะ แค่อาจจะตื่นเวที่หน่อยเลยยังรยทึกคน', 'ก็สนุกมากๆ และก็รู้สึกว่าได้ลองปลดล็อคตัวเองละ', 'รู้สึกว่ากรรมการอาจจะตัดสินไม่ตรงเท่าไหร่ ด้วยที่ว่าพวกผมเป็นเด็กวงโยด้วย เลยอาจจะคิดว่าผมมีห้องมห้ซ้อมทุกวัน แม้จริงๆพวกผม ต้องจ่ายตังไปซ้อมนอกรร.วันพฤหัสหลังเลิกเรียน เหมือนเค้าใช่เกณฑ์การตัดสินของพวกผมเป็นแบบ ผิดจุดเล็กๆห็หักแต้มละ ถ้าเทียบกับวงอื่นคือ ก็ไม่ได้คิดอะไรมากครับ', 'pos'], ['20/8/2022, 16:18:40', 'เหนื่อยมากเมื่อวานแทนที่จะได้นอนต้องตื่นตี2ไปขายขอฃนอนอีำที5ทุ่มตื่นตี2 ไปสอบNETSAT อีก', 'ข้อสอบง่ายมาก', 'ปวดขาเดินวันละ5โลไปกลับสนามสอบกัลที่พัก', 'neg'], ['20/8/2022, 16:25:48', 'พูดทั้งวัน', 'ได้ถ่ายทอดประสบการณ์การทำงานให้พนักงานใหม่ๆ', 'ไม่มีค่ะ', 'neg'], ['20/8/2022, 16:30:00', 'เมื่อวานโดนทิ้งให้อยู่คนเดียวทั้งวันเลยทั้งเพื้อนทั้งแฟนทิ้งหมด', 'สอบได้เกรด4ทั้งๆที่เตรียมตัวแก้แล้วเรียบร้อย', '-', 'neg'], ['20/8/2022, 16:30:51', 'ได้เรียนlitค่ะสนุกค่ะๆอ่านหนังสือเพลินๆสบายๆ สบายไม่นานก้ต้องไปเรียนmathซะเเล้วเเต่ก้ไม่มีอะไรยากค่ะงานกลุ่มชิวๆเเต่เพื่อนไม่ค่อยช่วยงานเลย😅😅😂😂 เเล้วคลับ2คาบยาวมากเว่อ เหนื่อยจิงเเต่คือสนุกดี เรียนเสร็จก้ซ้อมงานPEที่ต้องเเสดงต่อตัวซ้อมนาน2ชม.กว่าเกือบตายเเน่ะ555 กลับบ้านมาคือหลับไปเลย', 'ได้อยุ่กับเพื่อนเเล้วคือมีความสุขมากเป็นตัวของตัวเองอ่ะ ถึงจะปวดหัวกับพวกนางไปบ้างเเต่คือรวมๆเเล้วคือช่วงเวลาที่ดีเลย\\n\\nเราเหนคนๆนึงเหมือนจะเริ่มมีความสุขบ้างจากที่เขาดูหายๆไป เหนเเบบนี้ก้สบายใจละค่ะ', 'ยังมองหน้าเขาไม่ค่อยติดเลย รือเรายังเเคร์เขาอยุ่เห็นเขาก้ยังคิดถึงนะ คือบับไม่หน้าทำตัวเเน่เลยยยย เเล้วก้เรื่องงานด้วยสต.คือตอนทำคือใส่อารมณ์เยอะมากดูเป็นคนขี้บ่นไปเลย(เพื่อนคงไม่ถือใช่มั้ยนะ) (ขอบคุณที่รับฟังเจ้าค่ะ)', 'pos'], ['20/8/2022, 16:36:13', 'จัดงานได้ดีครับ', 'สตาฟฟ์ขยันทำงานมากครับ', '-', 'pos'], ['20/8/2022, 16:36:42', 'จำไม่ค่อยได้ หยุดงานประจำอยู่บ้าน แต่ก็กังวลว่าจะทำงานไม่เสร็จ พอลุกขึ้นมาลองนึกดูว่ามีงานอะไรบ้างก็ไม่มี คิดไปเอง เมื่อวานมีประชุมงานนอกตอนเช้า เพื่อนมาเที่ยวจากต่างจังหวัด ไปกินบุฟแซลม่อนกัน เพื่อนจองโรงแรมจากอโกด้า แต่ไปถึงแล้วดันไม่ตรงปก หนีออกมาแทบไม่ทัน ไม่รู้อโกด้ามันจะคืนเงินไหม เลยมาค้างที่บ้านแทน นั่งดูซีรี่ส์เกาหลี', '', '', 'neg'], ['20/8/2022, 16:38:34', 'เมื่อวานวันศุกร์สุดสัปดาห์ เหนื่อยมากเหมือนโดนสูบวิญญาณ ', 'ได้ไปแข่ง tao สนุกมากค้าบ เป็นความทรงจำที่ดีมากๆ', 'หมดไฟในการติวมากค่ะ ', 'neg'], ['20/8/2022, 16:39:43', 'เมื่อวานสนุกมาก เมื่อวานไปเที่ยวกับพี่ๆออนไลน์ ไปเดินตาดฝนกันตอนกลางคืน ในปรอยๆ แล้วก็ไปเล่นร้านเกมที่สามย่าน มู้ดตอนกลางคืนแถวประตูผีคือดีมาก แต่คนจรจัดเยอะมากเลย เส้า แล้วตอนกลางคืนก็นอนกับพี่อีก 2 คน หนาวมาก ไม่มีผ้าห่ม มีแต่หมอนปลาฉลาม', 'วันนี้ได้ไปข้าวสาร ไปเสพบรรยากาศ ไปเสพผู้คน แต่ไม่เสพยานะค้าบ แล้วได้ลองกินแมลงทอด ewww ไม่ชอบ แต่ได้อยู่', 'อยากระบายมากเลย คนจีบเยอะมากแต่ไม่จริงจังสักคน', 'pos'], ['20/8/2022, 16:48:29', 'ก็ดี', 'ลูกๆเข้าใจ', 'รายได้น้อยกว่ารายจ่าย', 'pos'], ['20/8/2022, 16:50:36', 'มึง อย่าไปเชื่อในสิ่งสำคัญสำหรับการให้บริการในเส้นทางการเป็นนก ว่าเดิมคือการเป็นนกโบยบินขึ้นไปบนโลกไซไฟ แสดงสถานะของการเป็นศูนย์กลางจักรวาลเริ่มต้นเพียงเพราะเขาจะรักใครสักอย่างเดียวเลยนะ', 'ดีแล้วหรอกว่าจะเป็นนกโบยบินในร้านเหล้า และความฮามากที่สุดคือการเป็นนักเรียนแลกเปลี่ยนในเยอรมันญี่ปุ่นและออสเตรเลียกับสถาบันสอนภาษาฝรั่งเศส', 'อยากอ่านต่อทั้งหมดมารวมกันแล้วยาวไปไหนรอก่อนนะ', 'neu'], ['20/8/2022, 16:53:00', 'เอางานศิลปะไปทำที่รร.เพื่อนๆช่วยหลายคนเลย สนุกมาก', 'วันเกิดเพื่อน เค้าเลี้ยงโดนัททั้งห้อง', '', 'pos'], ['20/8/2022, 16:53:15', 'เหนื่อยมาก เรียนทั้งวันเลยกว่าจะกลับถึงบ้านก็ดึกงานก็ยังเหลืออีกเยอะ', 'ไปเที่ยวพัทยา2วัน 1 คืนกับครอบครัว จริงๆก็ต้องแบกงานไปทำด้วยแต่เป็นทริปที่ชิวและสนุกมาก', 'เบื่องานมาก บางงานก็ไม่รู้จะทำไปทำไมไม่ได้มีประโยชน์เลย สั่งเยอะเกินเหตุ น่าเบื่อมาก', 'neg'], ['20/8/2022, 16:53:46', 'เมื่อวานก็เป็นวันที่ดีนะ ก็ไม่ได้มีอะไรพิเศษหรอก ก็แค่วันๆนึงที่ผ่านไปแบบปกติ แต่ที่ดีก็คงเป็นเะราะความปกติในตัวมันนั่นแหละ', 'ติดค่ายแล้วววว เย่', 'อันนี้ขอไม่เล่าดีกว่า อึดอัดง่ะ', 'pos'], ['20/8/2022, 17:08:18', 'เมื่อวานเกือบจะเป็นวันที่ดีแล้วค่ะ เราสองคนยุ่งกันมาทั้งสัปดาห์เลยไม่คุยได้คุยกัน เพิ่งจะได้มาคุยกันเมื่อวานแต่ก็เป็นช่วงเวลาที่สั้นมากๆ ถ้าได้อยู่ด้วยกันนานกว่านี้อีกหน่อยจะเป็นวันที่ดีมากๆ', 'ประสบการณ์ดีๆ จะเป็นเรื่องเพื่อนมากกว่าค่ะ ในเวลาที่เรางานยุ่ง ไม่มีเวลากินข้าว เพื่อนจะซื้อข้าวมาให้ มันเป็นเรื่องที่มีแค่เพื่อนคนนี้ที่ทำให้ ประทับใจมากๆค่ะ', 'เรารู้สึกว่าพอไม่มีเวลาให้กันเท่าไหร่แล้วมันก็แอบน้อยใจนิดหน่อย เราก็พยายามเข้าใจเขาอยู่ แต่ก็ยากนิดหน่อย', 'pos'], ['20/8/2022, 17:25:22', 'ก็เหี้ยก็กว่าที่ซ้อมเยอะครับ', 'เปิดคลิปดูก็โอเคก็ได้ครับ', 'ฮาโมไม่เช็คไมล์ดีๆ ไม่ได้ซาวเช็คเพราะเสียเวลารอไมล์ไปเยอะ เเต่ไม่เป็นไรครับ ทำดีเเล้ว \\nละก็กรรมการชอบขยี้ปม บางทีชมบ้างก็ได้ มันก็เป็นกำลังใจที่ดี ถ้าพูดเเต่เรื่องเเย่ๆบางทีมันก็รู้ตัวอย฿่เเล้ว', 'neg'], ['20/8/2022, 17:26:35', 'ดีครับ', '-', 'เเอมป์เบสไม่ค่อยดี\\nการเซ็ตไมค์ช้าทำให้กินเวลาเล่น\\nกรรมการชอบขยี้ ข้อดีข้อเสียไม่ค่อยสมดุลกัน', 'pos'], ['20/8/2022, 17:34:36', 'เครียดนิดหน่อย เพราะผัดวันประกันพรุ่งอีกแล้ว แผนที่ตั้งใจจะทำก็ไม่ได้ทำ ทำให้เครียดกับวันนี้มากๆว่าจะทำมันเสร็จและสำเร็จได้ไหม แต่พยายามอยู่ ต้องทำได้ สู้ๆ', 'นี่เป็นเด็กซิ่ว ซิ่วเพราะตอนนั้นคือท้อแท้มาก หมดไฟเพราะเรียนออนไลน์มากๆ เพื่อนก็ยังไม่มี มีปัญหาก็ไม่รู็จะถามใคร ทำให้เราไม่อยากเรียนคณะที่เราอยากเรียนมาตลอดแล้ว จริงๆเรารู้ตัวดีว่าเราสนใจเกี่ยวกับธุรกิจแล้วก็การเงินมากๆ ตอนแรกที่เลือกคณะนั้นก็เพื่อให้มันเป็นสะพานไปสู่เส้นทางนี้ แต่พอเข้าไปรู้สึกไม่ใช่ ทั้งกิจกรรม สังคม และการที่เราต้องไปอยู่บ้านญาติที่มันไม่ค่อยสะดวกต่อการเดินทางไปทำกิจกรรมร่วมกับเพื่อนขนาดนั้น รวมถึงความสนใจที่เราไม่ได้สนใจสายงานของคณะนี้ตรงๆอยู่แล้ว พอเข้าไปเพื่อนที่พอรู้จักบ้าง ก็คือมีแพชชั่นกับพวกนี้มากๆ ทั้งที่เราไม่เคยสนใจมันเลย ที่เข้ามาเพราะตอนเรียนรู้สึกว่าสนุกและน่าจะต่อยอดสิ่งที่เราอยากทำได้ สุดท้ายก็ suffer จึงตัดสินใจซิ่วมาได้คณะที่ตัวเองโอเค ที่นี่คือดีมาก ด้วยความที่มันออนไซต์ทำให้ได้เจอเพื่อนใหม่ รุ่นพี่ อาจารย์ ทำให้เราปลดล็อกมากๆ ถามว่าคณะตอนนี้มันใช่สำหรับเราไหม เราคงตอบว่าก็ยังไม่ใช่ขนาดนั้น เรายังมี question mark เกิดขึ้นในหัวตลอด แต่สิ่งที่เราได้เรียนรู้คือ เราปลดล็อกความคิดเกี่ยวกับการเรียนมากๆ เมื่อก่อนเราบอกตัวเองตลอดว่าจะไม่ซิ่ว เพราะกลัวนุ้นนั้นนี่ กลัวไม่ทัน จนไม่ได้ถามตัวเองว่าชอบอะไรจริงๆกันแน่ ความสุขของแกอยู่ตรงไหน อะไรคือสิ่งที่แกต้องการจริงๆ ช่วงม.ปลายเราเลยปักคณะเดียว แล้วเข้ากิจกรรมทุกกิจกรรมของคณะนั้นในหลายๆมหาลัย ตอนนั้นมันก็โอเค แต่เรากลับปิดโอกาสให้ตัวเองไม่ได้ศึกษาคณะอื่นๆเลย การซิ่วครั้งนี้ทำให้เราได้รู้ข้อมูลเกี่ยวกับคณะอื่นๆเยอะมาก ได้กลับไปทบทวนตัวเองหลายๆอย่าง เราก็ยังกังวลเกี่ยวกับอนาคตอยู่เหมือนเดิมนะ รู้สึกเคว้งบ้างนิดหน่อย แต่พอได้เข้ามาออนไซต์ที่มหาลัย เราได้แลกเปลี่ยนกับเพื่อนเยอะมาก ได้รู้ว่าเราไม่ใช่คนเดียวที่ประสบพบเจอสถานการณ์คล้ายๆกัน ในอดีตมันน่าเสียดายแหละ แต่เรากลับไปแก้ไขไม่ได้แล้ว มาโฟกัสปัจจุบันดีกว่า แล้วก็อยากจะบอกหลายๆคนว่า ไม่ว่าเราจะพึ่งมารู้ตัวเองตอน 25 30 35 40 หรือช่วงอายุไหนก็ตาม มันไม่มีคำว่าสายนะ ถ้าร่างกายเรายังไหว ทุกสิ่งในชีวิตมันอำนวยให้เราได้ทำตามฝันแล้วก็ลุยเลย อย่าไปคิดว่าเราด้อยกว่าคนที่อายุน้อยกว่าแต่ประสบความสำเร็จเท่าไหร่ เพราะเส้นทาง เงื่อนไขในชีวิตแต่ละคนมันไม่เท่ากัน ', 'อยากกลับมาเป็นคนเก่งคนเดิมมากๆ เป็นคนที่แน่วแน่ในความฝัน แล้วก็อยากให้ตัวเองพยายามเลิกกดดันตัวเอง มั่นใจในตัวเอง หยุดคิดเล็กคิดน้อย ยิ้มเยอะๆ สุดท้ายอยากให้ประเทศนี้มันดูมีอนาคตขึ้นมาบ้างสักที อยู่มา 8 ปี เหมือนถอยหลังลงคลอง', 'neg'], ['20/8/2022, 17:46:24', 'ชิวเวอร์สบายคาบเช้าคาบบ่ายมมือหงิกกับคณิตศาสตร์สุดหรรษาฟังธรรมะของพระอาจารย์จนเจอพระอินทร์ กลับบ้านมานอน นอน นอน จบ', 'ปั่นเพื่อนจนเกือบทะเลาะกับแฟน(ภูมิใจสุดๆ อวดแฟนอยู่นั้นแหละ)', 'ง่วงนอน มากๆ อยากให้วันนึงมีสัก72ชั่วโมง อ.คณิตศาสตร์เลิกตึงก็จะดีนะทำงานไม่ทัน บางเรื่องก็เกินไปนิดนึงทำบางอย่างที่ไม่ค่อยจำเป็นเกินปุย', 'pos'], ['20/8/2022, 18:11:08', 'งานยุ่งทั้งวัน พานศ.ไปเรียนที่ฟาร์ม', 'ได้สอนเด็กๆ ฝึกงานภาคสนาม เตรียมตัวเป็นคุณหมอในอนาคต', 'เด็กแม่งไม่เคยทำงานภาคสนาม ต้องให้เจ้าแม่กาลีประทับร่างก่อน ถึงจะทำงานกันเข้าที่! ', 'neg'], ['20/8/2022, 18:28:44', 'ตื่นเช้า ฝึกสมาธิ ออกกำลังกาย รวม 2 ช.ม.มันไม่ค่อยสนุกค่ะ แต่เมื่อทำจนครบเวลาแล้วกลับรู้สึกดีที่เราเอาชนะใจตนได้ เวลา 2 ช.ม.นั้นเราใช้มันคุ้มค่าแล้ว จากนั้นทานอาหารเช้า และทำงานรูทีนตามปกติ', 'ทุกคนมี 24 ช.ม.เท่ากัน เวลาเป็นของมีค่า และในขณะเดียวกันเวลามันก็ฆ่าตัวมันเองด้วย ที่ถูกควรให้เวลาแก่ตนเองก่อน เช่น เรียนรู้สิ่งใหม่ๆ เล่นกีฬา ฝึกทำอาหาร ปลูกต้นไม้ แต่คนส่วนใหญ่มักเอาเวลาว่างไปดูหนัง ฟังเพลง เล่นเกมส์ ท่องเวป เม้าท์กันในโซเชี่ยล ที่เป็นแบบนี้ เพราะเขาตามใจตัวเอง เขาห้ามกิเลสตัวเองไม่ได้  ', 'สิ่งที่กระทำนั้น คิดว่า เป็นประโยชน์ส่วนตัว หรือประโยชน์ส่วนรวม หรือได้ประโยชน์กันทั้ง2ฝ่าย  บางคนก็คิดไม่ได้จริงๆ นึกถึงแต่ประโยชน์ส่วนตัว โดยลืมไปว่า ตัวเองก็พึ่งพาอาศัยอยู่บนพื้นฐานของประโยชน์ส่วนรวมอยู่ แต่ไม่อยากให้ส่วนรวม ไม่มองส่วนรวมก่อน', 'neg'], ['20/8/2022, 18:42:49', 'ติดโควิดเเล้วเจ็บคอมากๆครับหายใจก็ไม่ค่อยออก', 'เจ็บคอน้อยลงกว่าวันเเรกที่ติดครับเยี่ยมสุดๆกินข้าวอร่อยขึ้นเยอะ', '-', 'neg'], ['20/8/2022, 19:11:04', 'เป็นวันที่ค่อนข้างวุ่นวาย ปัญหาต่างๆมันรายล้อมรอบตัวเรา งานต่างๆที่คอยทำให้เราไม่มีเวลาพัก จำเป็นต้องอาศัยการจัดการและวางแผนเป็นอย่างดี เพื่อให้ทุกอย่างออกมาอย่างสมบูรณ์แบบ เมื่อวานนี้จึงค่อนข้างเครียด แต่ในขณะเดียวกันก็รู้สึกสนุกและท้าทายความสามารถของตัวเอง', '', 'เนื่องด้วยงานต่างๆ ทำให้ตัวเราเองไม่มีเวลาหายใจหายคอ ไม่มีเวลาสำหรับตัวเอง แต่ยิ่งแย่เข้าไปใหญ่ เมื่อมีเพื่อนบางกลุ่ม หางานมาให้เราเพิ่มทำให้ยิ่งไม่มีเวลาเข้าไปกันใหญ่ \\n\\nปล. ขอให้โปรเจคผ่านไปได้ด้วยดีนะครับ✌🏻✨️', 'neg'], ['20/8/2022, 19:42:47', 'ไม่ได้แย่', 'ออกกำลังกายแล้วมีความสุข สมองปลอดโปร่ง อารมณ์ดี', '\"นะะะ\" สระ อะ เกินมาไม่ต้องพิมพ์เกินก็ได้นะ', 'pos'], ['20/8/2022, 19:44:11', 'โลกหมุนรอบตัวเองอีกวันหนึ่ง', 'อาหารมื้อเย็นอร่อยมาก', 'สี', 'neg'], ['20/8/2022, 20:35:39', 'เหนื่อยโว๊ยยยย', 'เคยเลี้ยงแฮมเตอร์ที่น่ารักที่สุดในโลก', 'บ่นเรื่องงานได้มั๊ย บ่นได้หรือเปล่า 😂😂', 'neg'], ['20/8/2022, 20:38:51', 'เมื่อวานก็เป็นเหมือนทุกๆวัน มีหน้าที่ที่พึงกระทำ มีสิ่งที่อยากทำ แต่มีเวลาที่จำกัด', 'เมื่อวานนี้ สามารถดูแลเอาใจใส่ คนที่เรารัก ได้ครบทุกคน รู้สึกพอใจตนเอง และขอบคุณทุกคน', 'อยากทำได้ดีกว่าที่ทำอยู่  (แม้จะดูโลภมากไปหน่อย 555)', 'neu'], ['20/8/2022, 20:41:01', 'คาบเช้าก็เหนื่อยมากเพราะเรียนบาส แต่ก็รู้สึกดีที่ได้นอนยาวๆ ตื่นมาก็เจอคนที่แอบรักอยู่ในห้อง แล้วก็ฟินที่ได้ไปทำผม', 'วันนี้เห็นคนที่แอบชอบมานานทำผมใหม่ แล้วคือหล่อวัวตายควายล้มมาก เราก็เดินไปชมเค้าว่าตัดผมใหม่แล้วหล่อนะ เค้าก็ขอบคุณและส่งยิ้มให้ โอ๊ยยยตายๆ', 'อยากระบายเรื่องอยากไปคอนที่ กท. มากแต่ติดไปเก็บพอร์ต คือเศร้ามากมีบัตรแล้ว แต่อยู่ดีๆค่ายเก็บพอร์ตก็โผล่ขึ้นมา ;~;', 'neu'], ['20/8/2022, 20:53:30', 'รู้สึกเหนื่อยจากการทำงาน', 'ประสบการที่ดี คือตอนนั้นน่าจะม.1ได้ มีครูศิลปะเรียกนักเรียนชั้นต่างๆไปพบ เพื่อที่จะทำการคัดคนที่วาดรูปเป็น เอาไปแข่ง เพราะพวกพี่ๆที่เคยแข่งเขาก็จะจบจากโรงเรียนแล้ว เมื่อถึงการคัดคน เราเอ่ยปากเล่นๆกับครูและเพื่อนว่าเราขอวาดรูปแบบนี้นะ เพื่อที่จะไปแทนพี่ๆที่จะจบ ทั้งๆที่ตัวเองไม่เคยวาดรูปแบบนั้นเป็นเลย แล้วครูก็เลือกเราไปจริงๆ  ในใจคิดว่าตายแน่ๆ  หลังจากนั้นเราก็มาได้ฝึกวาดรูป  วาดออกมาสวย ไม่คิดว่าตัวเองจะวาดได้  เมื่อถึงวันไปแข่ง น่าจะมีเกือบ5-6กว่าโรงเรียนได้ แล้วเขาเอาที่1เป็นตัวแทนไปแข่งระดับภาคที่เพชรบูรณ์ต่อ ซึ่งเราทำได้ เย้ๆดีใจมาก ปีแรกก็ได้ไปเลย \\n ต่อมาก็ถึงวันแข่งระดับภาคที่เพชรบูรณ์ อันนี้เขาเอาที่1-3ไปแข่งระดับประเทศ น่าจะมีเกือบ10กว่าโรงเรียนได้  จากนั้นเราก็เป็น1ใน3 ได้ไปแข่งระดับประเทศ ดีใจสุดๆไปเลย \\nพอมาถึงการแข่งขันระดับประเทศ ยอมรับว่ากังวลเพราะคนเก่งๆทั้งนั้น แต่ผลออกมาเราได้เหรียญทองอันดับ5ก็คือว่าเก่งแล้ว  ทำเต็มทีที่สุดแล้ว นี่แหละคือประสบการณ์ที่ดี', '', 'neg'], ['20/8/2022, 20:56:48', 'เหนื่อยเลย เดินเยอะ', 'ถึงบ้านเร็ว', 'ไม่มี', 'neg'], ['20/8/2022, 20:59:57', 'งานเยอะ ทำแทบไม่ทัน แต่ก็สนุกดี สุขใจที่ได้ทำ', 'ถามคนไข้ว่าหิวมั้ย เขาน่าจะหิวเพราะเป็นเวลาเที่ยงกว่าๆแล้ว  ซึ่งคำถามนี้เรามักกจะถามคนไข้เสมอ  จากคำถามนี้ ทำให้คนไข้ประทับใจมากจำเราได้ โดยที่เราไม่รู้ตัว  (คนไข้มาเล่าให้ฟังทีหลัง) ทำให้เรารู้สึกหัวใจพองโต เลยเล่าความประทับใจนี้ให้น้องๆฟัง ', '', 'neg'], ['20/8/2022, 21:01:22', 'เหนื่อยกับการเดินทาง เบื่อรถติด ต้องอยู่ในรถเป็นหลายชม. ไม่มีเวลาได้ทำอย่างอื่นเลย ', '', 'เบื่อ อยากไปเที่ยวต่างจังหวัดบ้าง ซื้อของที่อยากได้บ้าง แต่เงินไม่พอ ทำไมมีแต่ภาระ', 'neg'], ['20/8/2022, 21:04:15', 'เราสบายดี', 'ไปทำงานแล้วรถไม่ติด ถึงที่ทำงานเร็ว', 'หัวหน้าชอบใช้งานเยอะ เห็นฉันว่างทีไร ใช้งานตลอดเลย เป็นเศร้า', 'pos'], ['20/8/2022, 21:09:31', 'เมื่อวานเลิกงานแล้ว ต้องรีบไปฟังวิชาการ', 'ฟังวิชาการเสร็จ ได้รับประทานอาหารคอร์สเลิศ หรูหรามาก', 'อาหารดีมาก แต่รสชาติไม่ค่อยถูกปากเท่าไหร่ ปกติกินลาบ ส้มตำจ้า', 'neu'], ['20/8/2022, 21:14:09', 'เมื่อวานวันศุกร์ แต่ลาพักร้อนมาเฝ้าแม่ที่ป่วยติดเตียง เป็นความรับผิดชอบอีกแบบนึงของเราที่เป็นลูก ก็รู้สึกดีนะ เป็นโอกาสที่ดีที่เราจะได้ทำหน้าที่นี้', 'ช่วงที่แม่นอนหลับ ก็ได้เปิดยูทูป ทำเมนูที่น่าสนใจ แล้วอร่อยด้วย ลูกๆชอบคะ', 'ที่ทำงาน งานค่อนข้างยาก ทั้งบริหารและงานคุณภาพ เหนื่อยนะเนี่ย', 'pos'], ['20/8/2022, 21:26:55', 'งานหนัก แต่สนุก ภารกิจเยอะ แต่กะผ่านไปได้ นอนดึก แต่กะต้องตื่นเช้า', 'มีครอบครัวดีๆที่รักกัน', 'ช่างมันเถอะ', 'neg'], ['20/8/2022, 21:44:10', 'เป็นวันศุกร์ที่โชคดีมาก ฝนไม่ตกรถไม่ติดเท่าไหร่ ถึงบ้านไวเลยมีโอกาสและตลาดราม 2 หาของอร่อยกิน', 'เป็นโรคร้ายติดตัวมาตั้งแต่ปี 57 แต่ไม่ท้อหรอกนะ สู้ตลอด เพื่อลูกและคนที่รักเรา/เรารัก การมีโรคคือลาภอันประเสริฐ ทำให้เราใช้ชีวิตแบบระมัดระวังตลอดจึงไม่ถือว่าเป็นเรื่องไม่ดี สำหรับประสบการณ์นี้ส่วนตัวเราถือว่าดีนะ เป็นไงชีวิตคิดบวกปะล่ะ', 'อยากให้ทุกคนในโลกรู้หน้าที่ตัวเอง ทำหน้าที่แต่ละคนให้ดี ทุกอย่างมันจะดีขึ้นเอง จิงป่าวไม่รู้ แต่อยากให้เป็นแบบนั้นอะ', 'pos'], ['20/8/2022, 21:48:59', 'ไม่เป็นไง', 'อยากเก็บไว้ในใจ', 'เบื่อป้าเต๋', 'neu'], ['20/8/2022, 22:00:49', 'อ้วนอ่ะ อยากผอมหุ่นดี แล้วก็ขี้เกียจออกกำลังกายมากๆเลย', 'นึกไม่ออกที่อยากจะเล่า', '', 'neg'], ['20/8/2022, 22:06:51', 'ดีมากอยู่กะลูก', 'มีสามีดี ลูกดี ครอบครัวดี', '', 'pos'], ['20/8/2022, 22:52:02', 'กลับบ้านก็รู้สึกเหนื่อยๆ ทำ lab ทั้งวัน รู้สึกเหมือน lab นรกเลย ถึงบ้านก็ประมาณ 1 ทุ่ม นั่งกินข้าวแล้วก็เผลอหลับไป ตื่นมาอีกที่ตี 5 พร้อมกับงานที่(น่าจะ)ไฟไหม้ ไม่อยากไปกิจกรรมเลย เพราะงานยังไม่เสร็จ แต่ก็ต้องไป ไม่รู้ทำไม หอบงานไปทำตอนพักเที่ยงด้วย', 'เรารู้สึกว่า เราไม่มีประสบการณ์ดี ๆ ในชีวิตเลยๅ', 'เรารู้สึกว่า เรารู้สึกผิดกับตัวเอง และ คนรอบข้างอยู่ตลอด แปลกดีเนอะ ทั้งๆ ที่ บางอย่างมันเป็นอุบัติเหตุอ่ะ เช่น เราพาเพื่อนขึ้น BTS ไปมหาลัย เป็นวันแรกที่เขาไปมหาลัยหลังจากหายโควิดมา วันนั้นมันเกิดอุบัติเหตุ คือ รถไฟฟ้ามันวิ่งผิดชานชาลามั้ง คือ ทางที่จะไปเคหะฯ ดันวิ่งไปคูคต แต่ทางที่ไปคูคต ดันวิ่งไปทางเคหะฯ\\u200bแทน เรารู้สึกผิดกับเขามากเลย เพราะว่า เขาดูประหม่ามาก วันนั้นเลยตัดสินใจลง BTS ห้าแยกลาดพร้าว แล้วต่อ MRT เพื่อที่จะไปต่อ ARL ต่อไปมหาลัย เรารู้สึกว่า เขาไปมหาลัยวันแรก ไม่ควรเจออะไรแบบนี้อ่ะ เรารู้สึกผิดที่ทำให้เราดูประหม่าอ่ะ แต่ก็โชคดีที่เรา และ เขานั้นไม่ได้เรียนเช้ามาก\\n\\nอีกเรื่องนึง เป็นเรื่องที่เกิดเมื่อประมาณ 3-4 ปีที่แล้ว คือ เราเคยมีแฟนมาก่อน และก็เลิกกันไปรอบนึง และก็ กลับมาคบกันใหม่ และก็ เลิกกันไปอีก เลิกกันครั้งที่สอง เราไปทำตัวประสาทแดกใส่เขาอ่ะ คือ รอบสองก็จบกันไม่สวยอ่ะ ประกอบช่วงนั้นเราเป็นซึมเศร้าด้วย เหมือนเจอมรสุมชีวิตด้วย แต่ช่วงนั้นก็ผ่านไปด้วยดีนะ แต่พอผ่านไปสักปีนึง รู้สึกว่า เราทำไปทำไมวะ ทำไมเราถึงทำอย่างนั้น สิ่งที่เรากลัวที่สุด คือ เรากลัวคนที่รู้จัก ค่อยๆ ออกจากชีวิตเราไป แบบไม่ดีอ่ะ ทุกวันนี้เราก็ยังไม่ลืมเรื่องแฟนเก่านะ เรารู้สึกว่า เรื่องนี้ทำให้เราไม่อยากมีแฟน และ ขอใช้ชีวิตไปแบบคนเดียวทั้งชีวิต แบบทั้งชีวิตจริงๆ อ่ะ เรามีตัวอย่างจากคนในครอบครัวเราแล้ว คือ เขาไม่ได้เลิกกัน แต่แค่แยกกันอยู่ แบบคนนึง (สมมุติว่าชื่อ A \\xa0ละกัน) ก็ไม่อยากคุยกับอีกคนนึง ส่วนอีกคนนึง (สมมุติชื่อว่า B) ก็พยายามเข้าหาอีกคนนึง แต่ A ก็ไม่ยอมรับการเข้าหาของ B เรากลัวว่า พอเรามีแฟน มันจะเกิดเหตุการณ์ที่ว่ามาทั้งหมดเลย', 'neu'], ['20/8/2022, 22:56:38', 'เมื่อวานดีค่ะ แค่รถติดนิดหน่อย', 'ลูกเล่าเรื่องที่คุยกับอาจารย์แล้วผลออกมาดี', 'ยังไม่มีเรื่องที่หนักใจจนแก้ไม่ได้', 'pos'], ['20/8/2022, 23:09:16', 'ก็ดีได้คุยกับสาวได้เล่นเกมที่ชอบแต่เพื่อนบิดไปคุยกับสาว', 'สามารถชวนคุยกับสาวได้แบบธรรมชาติxD', 'อยากใช้เวลากับสาวอีกแต่กลัวไปกวนเขา;-;', 'pos'], ['20/8/2022, 23:11:06', 'เป็นวันงาน รร. 170 ปีครับ เป็นวันที่สำคัญมากสำหรับรุ่นผม เพราะเป็นงานรุ่นที่ยิ่งใหญ่ที่สุดในระยะเวลา 12 ปีครับ', 'ผมเป็นคนควบคุม Sound ของพิธีเปิด และพี่ที่คุม Mixer ก็ใจดีมากๆเลย สอนงานผมด้วย แล้วคุยกะผมเรื่องมหาลัย ครับ ดีมากๆเลยที่ทีเพื่อนเป็นคนที่ต้องประสานงาด้วย', 'งานเยอะ งานยุ่ง ไม่เป็นระบบ แต่สุดท้านออกมาด้วยดีครับ เลยภูมิใจมาก', 'pos'], ['20/8/2022, 23:32:17', 'มันเป็นความลับ', 'ประสบการณ์ที่ดี จะเล่าทำไม เก็บไว้คนเดียวดิ', 'เสื่อกชัดๆ ยุ่งเรื่องชาวบ้าน', 'neu'], ['21/8/2022, 0:16:43', 'วันนี้มีเรื่องที่ต้องคิดและรอคำตอบหลายเรื่อง แต่ยังไม่มีเรื่องไหนสรุป เลยทำให้รู้สึกไม่สบายใจ', 'แมวที่เลี้ยงไว้ เป็นเพื่อนที่ช่วยทำให้จิตใจรู้สึกดีขึ้น เป็นเพื่อนแก้เหงา แมวคอยมาประจบทำให้เรารู้สึกผ่อนคลายขึ้น', 'เรื่องที่รอคำตอบอยู่ แต่ยังไม่ได้คำตอบ เลยกังวลว่าจะได้รับคำตอบตามที่คาดหวังไว้หรือไม่', 'neg'], ['21/8/2022, 0:45:10', 'ก็ดีนะ ตื่นบ่ายโมง กินข้าวเสดก็บ่ายสองละ มาเล่นเกมต่อถึงห้าโมง เสดแล้วก็ทำงาน สมัครค่ายอยากเป็นหมอฟันไปด้วย อาบน้ำ เผลอแปปเดียวก็หมดวันแล้ว ตื่นสายก็งี้แหละเนาะ ', '', 'สู้โควิดมาตั้งกี่ปี ทำไมต้องมาติดตอนมีงานวันเกิดรรด้วย จบจากกทมา 5 ปียังไม่เคยได้กลับไปเลย คิดถึงรรมากๆ ปีหน้าก็จะรุ่นเราแล้ว ถ้าไม่ได้ไปอีกจะทำยังไง😥😥😥', 'neu'], ['21/8/2022, 8:33:27', 'เมื่อวานก็…ไม่มีไรมาก เช้าวางแผนจะทำการบ้าน ก็ไม่ค่อยได้ทำอะไรเป็นชิ้นเป็นอัน มาได้งานจริงๆตอนบ่าย ทำได้เยอะ', 'เคลียการบ้านที่มีไปได้เยอะจนสบายใจ', 'รู้สึกจัดการเวลาไม่ค่อยดี แต่ของแบบนี้ ก็น่าจะต้องค่อยๆพัฒนาแหละมั้ง', 'pos'], ['21/8/2022, 10:26:33', 'เมื่อวานปวดขา', 'ทานยาโดยไม่ถามแพทย์', '', 'neg'], ['21/8/2022, 10:32:10', 'เอาโน๊ตบุ๊คไปซ่อม', 'โน๊ตบุ๊คที่เอาไปซ่อมใช้งานมา7ปีแล้ว ถือว่ายังดีมากอยู่ \\n', '', 'neu'], ['21/8/2022, 11:11:42', 'เมื่อวาน เช้าไปประชุม แล้วเข้าทำงาน ปกติแล้ว วันเสาร์คือ หยุด แต่รับเวรแทนน้อง งานประชุมดีค่ะ ได้ประโยชน์ ได้ความรู้เพิ่มขึ้น นำมาปรับใช้ได้  ส่วนงานเมื่อวาน ก็ดีค่ะ ลูกค้าเยอะดี ได้ทำงานเยอะ เงินก็จะดี', 'ในบางครั้งที่เราประสบปัญหา ก็จะมีสิ่งดีๆ มาให้เห็นเสมอ', 'เมื่อทำงานมากๆ ความผิดพลาดย่อมเกิดขึ้น จงอย่าน้อยใจ ลุกขึ้นแก้ไข เดินต่อไป สู้ๆ', 'pos'], ['21/8/2022, 11:47:38', 'เมื่อวานไปอิมเเพค ได้ไปเดินกับเทอด้วย นานทีจะมีโมเม้น ปกติเขาซึน', 'ได้คุยแลกเปลี่ยนกันมากขึ้น', '', 'pos'], ['21/8/2022, 19:56:23', 'อยากเข้ากายภาพบำบัดจุฬาแต่ยังไม่ได้เตรียมตัวเลยม.5แล้วเนี่ย', 'เล่นleague of legendsแล้วขึ้นgoldได้', 'ความบัดซบของการเรียนกับบุญทรัพย์ ยังไม่รู้เลยว่าที่เรียนมามันจะไปออกสอบยังไงแถมยังจะมาเอาคาบอีกทั้งที่เวลาเรียนก็ไม่มีไรเลยเหมือนแค่มานั่งเล่าเรื่องเก่าๆทั้งการเมืองและชีวิต', 'neg'], ['21/8/2022, 20:28:29', 'อารมณ์ดี', 'การลงทุนมีความเสี่ยง แต่ถ้าไม่ลงทุนจะเสี่ยงกว่า', 'คนเราไปบังคับใจใครไม่ได้ นอกจากใจตนเอง', 'pos'], ['21/8/2022, 20:41:49', 'ไปค่ายมาค่อนข้างเหนื่อย', 'ก็สนุกดีได้เพื่อนมา', 'ลืมขอไอจีเพื่อนในค่าย', 'neg']]\n"
          ]
        },
        {
          "output_type": "execute_result",
          "data": {
            "text/plain": [
              "              ประทับเวลา                                    เล่าให้ฟังหน่อย  \\\n",
              "0    20/8/2022, 14:42:33                     เมื่อวานก็เฉยๆ ไม่ได้มีอะไรมาก   \n",
              "1    20/8/2022, 14:47:32                                           ก็โอเคนะ   \n",
              "2    20/8/2022, 14:48:12  เมื่อวานผ่านไปอย่างเรียบๆแต่รู้สึกว่าชีวิตได้พ...   \n",
              "3    20/8/2022, 14:48:28  Happyดี ได้อยู่กับสิ่งที่ชอบทั้งวัน มีเรื่องให...   \n",
              "4    20/8/2022, 14:49:51  เมื่อวานมีความสุขดีไปเรียน แล้วก็กลับมานอนดูหน...   \n",
              "..                   ...                                                ...   \n",
              "106  21/8/2022, 11:11:42  เมื่อวาน เช้าไปประชุม แล้วเข้าทำงาน ปกติแล้ว ว...   \n",
              "107  21/8/2022, 11:47:38  เมื่อวานไปอิมเเพค ได้ไปเดินกับเทอด้วย นานทีจะม...   \n",
              "108  21/8/2022, 19:56:23  อยากเข้ากายภาพบำบัดจุฬาแต่ยังไม่ได้เตรียมตัวเล...   \n",
              "109  21/8/2022, 20:28:29                                           อารมณ์ดี   \n",
              "110  21/8/2022, 20:41:49                            ไปค่ายมาค่อนข้างเหนื่อย   \n",
              "\n",
              "                            ประสบการณ์ที่ดีที่อยากเล่า  \\\n",
              "0                                                        \n",
              "1     มีเด็กกลับบ้านคนนึง รู้สึกดีที่เค้านอนอยู่ในบ้าน   \n",
              "2    เหมือนในห้องมีกลุ่มที่มาดิสคัสหัวข้อการเรียนกั...   \n",
              "3                          ได้อยู่กับเพื่อน ทำอะไรโง่ๆ   \n",
              "4    ได้ไปกินข้าวกับเพื่อน ได้เจอเพื่อนที่ไม่ได้เจอ...   \n",
              "..                                                 ...   \n",
              "106  ในบางครั้งที่เราประสบปัญหา ก็จะมีสิ่งดีๆ มาให้...   \n",
              "107                         ได้คุยแลกเปลี่ยนกันมากขึ้น   \n",
              "108               เล่นleague of legendsแล้วขึ้นgoldได้   \n",
              "109    การลงทุนมีความเสี่ยง แต่ถ้าไม่ลงทุนจะเสี่ยงกว่า   \n",
              "110                                ก็สนุกดีได้เพื่อนมา   \n",
              "\n",
              "                                    เรื่องที่อยากระบาย catergory  \n",
              "0                                                            neu  \n",
              "1    เพลียกะเด็กอีกคนที่ไม่สนใจเรียน น้ำมันราคาแพง ...       neu  \n",
              "2                                                            neu  \n",
              "3                                                            pos  \n",
              "4                                                            pos  \n",
              "..                                                 ...       ...  \n",
              "106  เมื่อทำงานมากๆ ความผิดพลาดย่อมเกิดขึ้น จงอย่าน...       pos  \n",
              "107                                                          pos  \n",
              "108  ความบัดซบของการเรียนกับบุญทรัพย์ ยังไม่รู้เลยว...       neg  \n",
              "109             คนเราไปบังคับใจใครไม่ได้ นอกจากใจตนเอง       pos  \n",
              "110                              ลืมขอไอจีเพื่อนในค่าย       neg  \n",
              "\n",
              "[111 rows x 5 columns]"
            ],
            "text/html": [
              "\n",
              "  <div id=\"df-2e4d5b14-4017-4bc8-bdf7-304c849da7e3\">\n",
              "    <div class=\"colab-df-container\">\n",
              "      <div>\n",
              "<style scoped>\n",
              "    .dataframe tbody tr th:only-of-type {\n",
              "        vertical-align: middle;\n",
              "    }\n",
              "\n",
              "    .dataframe tbody tr th {\n",
              "        vertical-align: top;\n",
              "    }\n",
              "\n",
              "    .dataframe thead th {\n",
              "        text-align: right;\n",
              "    }\n",
              "</style>\n",
              "<table border=\"1\" class=\"dataframe\">\n",
              "  <thead>\n",
              "    <tr style=\"text-align: right;\">\n",
              "      <th></th>\n",
              "      <th>ประทับเวลา</th>\n",
              "      <th>เล่าให้ฟังหน่อย</th>\n",
              "      <th>ประสบการณ์ที่ดีที่อยากเล่า</th>\n",
              "      <th>เรื่องที่อยากระบาย</th>\n",
              "      <th>catergory</th>\n",
              "    </tr>\n",
              "  </thead>\n",
              "  <tbody>\n",
              "    <tr>\n",
              "      <th>0</th>\n",
              "      <td>20/8/2022, 14:42:33</td>\n",
              "      <td>เมื่อวานก็เฉยๆ ไม่ได้มีอะไรมาก</td>\n",
              "      <td></td>\n",
              "      <td></td>\n",
              "      <td>neu</td>\n",
              "    </tr>\n",
              "    <tr>\n",
              "      <th>1</th>\n",
              "      <td>20/8/2022, 14:47:32</td>\n",
              "      <td>ก็โอเคนะ</td>\n",
              "      <td>มีเด็กกลับบ้านคนนึง รู้สึกดีที่เค้านอนอยู่ในบ้าน</td>\n",
              "      <td>เพลียกะเด็กอีกคนที่ไม่สนใจเรียน น้ำมันราคาแพง ...</td>\n",
              "      <td>neu</td>\n",
              "    </tr>\n",
              "    <tr>\n",
              "      <th>2</th>\n",
              "      <td>20/8/2022, 14:48:12</td>\n",
              "      <td>เมื่อวานผ่านไปอย่างเรียบๆแต่รู้สึกว่าชีวิตได้พ...</td>\n",
              "      <td>เหมือนในห้องมีกลุ่มที่มาดิสคัสหัวข้อการเรียนกั...</td>\n",
              "      <td></td>\n",
              "      <td>neu</td>\n",
              "    </tr>\n",
              "    <tr>\n",
              "      <th>3</th>\n",
              "      <td>20/8/2022, 14:48:28</td>\n",
              "      <td>Happyดี ได้อยู่กับสิ่งที่ชอบทั้งวัน มีเรื่องให...</td>\n",
              "      <td>ได้อยู่กับเพื่อน ทำอะไรโง่ๆ</td>\n",
              "      <td></td>\n",
              "      <td>pos</td>\n",
              "    </tr>\n",
              "    <tr>\n",
              "      <th>4</th>\n",
              "      <td>20/8/2022, 14:49:51</td>\n",
              "      <td>เมื่อวานมีความสุขดีไปเรียน แล้วก็กลับมานอนดูหน...</td>\n",
              "      <td>ได้ไปกินข้าวกับเพื่อน ได้เจอเพื่อนที่ไม่ได้เจอ...</td>\n",
              "      <td></td>\n",
              "      <td>pos</td>\n",
              "    </tr>\n",
              "    <tr>\n",
              "      <th>...</th>\n",
              "      <td>...</td>\n",
              "      <td>...</td>\n",
              "      <td>...</td>\n",
              "      <td>...</td>\n",
              "      <td>...</td>\n",
              "    </tr>\n",
              "    <tr>\n",
              "      <th>106</th>\n",
              "      <td>21/8/2022, 11:11:42</td>\n",
              "      <td>เมื่อวาน เช้าไปประชุม แล้วเข้าทำงาน ปกติแล้ว ว...</td>\n",
              "      <td>ในบางครั้งที่เราประสบปัญหา ก็จะมีสิ่งดีๆ มาให้...</td>\n",
              "      <td>เมื่อทำงานมากๆ ความผิดพลาดย่อมเกิดขึ้น จงอย่าน...</td>\n",
              "      <td>pos</td>\n",
              "    </tr>\n",
              "    <tr>\n",
              "      <th>107</th>\n",
              "      <td>21/8/2022, 11:47:38</td>\n",
              "      <td>เมื่อวานไปอิมเเพค ได้ไปเดินกับเทอด้วย นานทีจะม...</td>\n",
              "      <td>ได้คุยแลกเปลี่ยนกันมากขึ้น</td>\n",
              "      <td></td>\n",
              "      <td>pos</td>\n",
              "    </tr>\n",
              "    <tr>\n",
              "      <th>108</th>\n",
              "      <td>21/8/2022, 19:56:23</td>\n",
              "      <td>อยากเข้ากายภาพบำบัดจุฬาแต่ยังไม่ได้เตรียมตัวเล...</td>\n",
              "      <td>เล่นleague of legendsแล้วขึ้นgoldได้</td>\n",
              "      <td>ความบัดซบของการเรียนกับบุญทรัพย์ ยังไม่รู้เลยว...</td>\n",
              "      <td>neg</td>\n",
              "    </tr>\n",
              "    <tr>\n",
              "      <th>109</th>\n",
              "      <td>21/8/2022, 20:28:29</td>\n",
              "      <td>อารมณ์ดี</td>\n",
              "      <td>การลงทุนมีความเสี่ยง แต่ถ้าไม่ลงทุนจะเสี่ยงกว่า</td>\n",
              "      <td>คนเราไปบังคับใจใครไม่ได้ นอกจากใจตนเอง</td>\n",
              "      <td>pos</td>\n",
              "    </tr>\n",
              "    <tr>\n",
              "      <th>110</th>\n",
              "      <td>21/8/2022, 20:41:49</td>\n",
              "      <td>ไปค่ายมาค่อนข้างเหนื่อย</td>\n",
              "      <td>ก็สนุกดีได้เพื่อนมา</td>\n",
              "      <td>ลืมขอไอจีเพื่อนในค่าย</td>\n",
              "      <td>neg</td>\n",
              "    </tr>\n",
              "  </tbody>\n",
              "</table>\n",
              "<p>111 rows × 5 columns</p>\n",
              "</div>\n",
              "      <button class=\"colab-df-convert\" onclick=\"convertToInteractive('df-2e4d5b14-4017-4bc8-bdf7-304c849da7e3')\"\n",
              "              title=\"Convert this dataframe to an interactive table.\"\n",
              "              style=\"display:none;\">\n",
              "        \n",
              "  <svg xmlns=\"http://www.w3.org/2000/svg\" height=\"24px\"viewBox=\"0 0 24 24\"\n",
              "       width=\"24px\">\n",
              "    <path d=\"M0 0h24v24H0V0z\" fill=\"none\"/>\n",
              "    <path d=\"M18.56 5.44l.94 2.06.94-2.06 2.06-.94-2.06-.94-.94-2.06-.94 2.06-2.06.94zm-11 1L8.5 8.5l.94-2.06 2.06-.94-2.06-.94L8.5 2.5l-.94 2.06-2.06.94zm10 10l.94 2.06.94-2.06 2.06-.94-2.06-.94-.94-2.06-.94 2.06-2.06.94z\"/><path d=\"M17.41 7.96l-1.37-1.37c-.4-.4-.92-.59-1.43-.59-.52 0-1.04.2-1.43.59L10.3 9.45l-7.72 7.72c-.78.78-.78 2.05 0 2.83L4 21.41c.39.39.9.59 1.41.59.51 0 1.02-.2 1.41-.59l7.78-7.78 2.81-2.81c.8-.78.8-2.07 0-2.86zM5.41 20L4 18.59l7.72-7.72 1.47 1.35L5.41 20z\"/>\n",
              "  </svg>\n",
              "      </button>\n",
              "      \n",
              "  <style>\n",
              "    .colab-df-container {\n",
              "      display:flex;\n",
              "      flex-wrap:wrap;\n",
              "      gap: 12px;\n",
              "    }\n",
              "\n",
              "    .colab-df-convert {\n",
              "      background-color: #E8F0FE;\n",
              "      border: none;\n",
              "      border-radius: 50%;\n",
              "      cursor: pointer;\n",
              "      display: none;\n",
              "      fill: #1967D2;\n",
              "      height: 32px;\n",
              "      padding: 0 0 0 0;\n",
              "      width: 32px;\n",
              "    }\n",
              "\n",
              "    .colab-df-convert:hover {\n",
              "      background-color: #E2EBFA;\n",
              "      box-shadow: 0px 1px 2px rgba(60, 64, 67, 0.3), 0px 1px 3px 1px rgba(60, 64, 67, 0.15);\n",
              "      fill: #174EA6;\n",
              "    }\n",
              "\n",
              "    [theme=dark] .colab-df-convert {\n",
              "      background-color: #3B4455;\n",
              "      fill: #D2E3FC;\n",
              "    }\n",
              "\n",
              "    [theme=dark] .colab-df-convert:hover {\n",
              "      background-color: #434B5C;\n",
              "      box-shadow: 0px 1px 3px 1px rgba(0, 0, 0, 0.15);\n",
              "      filter: drop-shadow(0px 1px 2px rgba(0, 0, 0, 0.3));\n",
              "      fill: #FFFFFF;\n",
              "    }\n",
              "  </style>\n",
              "\n",
              "      <script>\n",
              "        const buttonEl =\n",
              "          document.querySelector('#df-2e4d5b14-4017-4bc8-bdf7-304c849da7e3 button.colab-df-convert');\n",
              "        buttonEl.style.display =\n",
              "          google.colab.kernel.accessAllowed ? 'block' : 'none';\n",
              "\n",
              "        async function convertToInteractive(key) {\n",
              "          const element = document.querySelector('#df-2e4d5b14-4017-4bc8-bdf7-304c849da7e3');\n",
              "          const dataTable =\n",
              "            await google.colab.kernel.invokeFunction('convertToInteractive',\n",
              "                                                     [key], {});\n",
              "          if (!dataTable) return;\n",
              "\n",
              "          const docLinkHtml = 'Like what you see? Visit the ' +\n",
              "            '<a target=\"_blank\" href=https://colab.research.google.com/notebooks/data_table.ipynb>data table notebook</a>'\n",
              "            + ' to learn more about interactive tables.';\n",
              "          element.innerHTML = '';\n",
              "          dataTable['output_type'] = 'display_data';\n",
              "          await google.colab.output.renderOutput(dataTable, element);\n",
              "          const docLink = document.createElement('div');\n",
              "          docLink.innerHTML = docLinkHtml;\n",
              "          element.appendChild(docLink);\n",
              "        }\n",
              "      </script>\n",
              "    </div>\n",
              "  </div>\n",
              "  "
            ]
          },
          "metadata": {},
          "execution_count": 36
        }
      ]
    },
    {
      "cell_type": "code",
      "source": [
        "test_ = pd.DataFrame({\"category\": df[\"catergory\"], \"texts\":df[\"เล่าให้ฟังหน่อย\"]})"
      ],
      "metadata": {
        "id": "JPuxlv5JokES"
      },
      "execution_count": null,
      "outputs": []
    },
    {
      "cell_type": "code",
      "source": [
        "test_"
      ],
      "metadata": {
        "colab": {
          "base_uri": "https://localhost:8080/",
          "height": 419
        },
        "id": "gj9rF4dkpktO",
        "outputId": "4797a099-4f00-451f-89a5-ab069399db3a"
      },
      "execution_count": null,
      "outputs": [
        {
          "output_type": "execute_result",
          "data": {
            "text/plain": [
              "    category                                              texts\n",
              "0        neu                     เมื่อวานก็เฉยๆ ไม่ได้มีอะไรมาก\n",
              "1        neu                                           ก็โอเคนะ\n",
              "2        neu  เมื่อวานผ่านไปอย่างเรียบๆแต่รู้สึกว่าชีวิตได้พ...\n",
              "3        pos  Happyดี ได้อยู่กับสิ่งที่ชอบทั้งวัน มีเรื่องให...\n",
              "4        pos  เมื่อวานมีความสุขดีไปเรียน แล้วก็กลับมานอนดูหน...\n",
              "..       ...                                                ...\n",
              "106      pos  เมื่อวาน เช้าไปประชุม แล้วเข้าทำงาน ปกติแล้ว ว...\n",
              "107      pos  เมื่อวานไปอิมเเพค ได้ไปเดินกับเทอด้วย นานทีจะม...\n",
              "108      neg  อยากเข้ากายภาพบำบัดจุฬาแต่ยังไม่ได้เตรียมตัวเล...\n",
              "109      pos                                           อารมณ์ดี\n",
              "110      neg                            ไปค่ายมาค่อนข้างเหนื่อย\n",
              "\n",
              "[111 rows x 2 columns]"
            ],
            "text/html": [
              "\n",
              "  <div id=\"df-5e78c5ac-095b-4dee-8e91-37e637c8c6b5\">\n",
              "    <div class=\"colab-df-container\">\n",
              "      <div>\n",
              "<style scoped>\n",
              "    .dataframe tbody tr th:only-of-type {\n",
              "        vertical-align: middle;\n",
              "    }\n",
              "\n",
              "    .dataframe tbody tr th {\n",
              "        vertical-align: top;\n",
              "    }\n",
              "\n",
              "    .dataframe thead th {\n",
              "        text-align: right;\n",
              "    }\n",
              "</style>\n",
              "<table border=\"1\" class=\"dataframe\">\n",
              "  <thead>\n",
              "    <tr style=\"text-align: right;\">\n",
              "      <th></th>\n",
              "      <th>category</th>\n",
              "      <th>texts</th>\n",
              "    </tr>\n",
              "  </thead>\n",
              "  <tbody>\n",
              "    <tr>\n",
              "      <th>0</th>\n",
              "      <td>neu</td>\n",
              "      <td>เมื่อวานก็เฉยๆ ไม่ได้มีอะไรมาก</td>\n",
              "    </tr>\n",
              "    <tr>\n",
              "      <th>1</th>\n",
              "      <td>neu</td>\n",
              "      <td>ก็โอเคนะ</td>\n",
              "    </tr>\n",
              "    <tr>\n",
              "      <th>2</th>\n",
              "      <td>neu</td>\n",
              "      <td>เมื่อวานผ่านไปอย่างเรียบๆแต่รู้สึกว่าชีวิตได้พ...</td>\n",
              "    </tr>\n",
              "    <tr>\n",
              "      <th>3</th>\n",
              "      <td>pos</td>\n",
              "      <td>Happyดี ได้อยู่กับสิ่งที่ชอบทั้งวัน มีเรื่องให...</td>\n",
              "    </tr>\n",
              "    <tr>\n",
              "      <th>4</th>\n",
              "      <td>pos</td>\n",
              "      <td>เมื่อวานมีความสุขดีไปเรียน แล้วก็กลับมานอนดูหน...</td>\n",
              "    </tr>\n",
              "    <tr>\n",
              "      <th>...</th>\n",
              "      <td>...</td>\n",
              "      <td>...</td>\n",
              "    </tr>\n",
              "    <tr>\n",
              "      <th>106</th>\n",
              "      <td>pos</td>\n",
              "      <td>เมื่อวาน เช้าไปประชุม แล้วเข้าทำงาน ปกติแล้ว ว...</td>\n",
              "    </tr>\n",
              "    <tr>\n",
              "      <th>107</th>\n",
              "      <td>pos</td>\n",
              "      <td>เมื่อวานไปอิมเเพค ได้ไปเดินกับเทอด้วย นานทีจะม...</td>\n",
              "    </tr>\n",
              "    <tr>\n",
              "      <th>108</th>\n",
              "      <td>neg</td>\n",
              "      <td>อยากเข้ากายภาพบำบัดจุฬาแต่ยังไม่ได้เตรียมตัวเล...</td>\n",
              "    </tr>\n",
              "    <tr>\n",
              "      <th>109</th>\n",
              "      <td>pos</td>\n",
              "      <td>อารมณ์ดี</td>\n",
              "    </tr>\n",
              "    <tr>\n",
              "      <th>110</th>\n",
              "      <td>neg</td>\n",
              "      <td>ไปค่ายมาค่อนข้างเหนื่อย</td>\n",
              "    </tr>\n",
              "  </tbody>\n",
              "</table>\n",
              "<p>111 rows × 2 columns</p>\n",
              "</div>\n",
              "      <button class=\"colab-df-convert\" onclick=\"convertToInteractive('df-5e78c5ac-095b-4dee-8e91-37e637c8c6b5')\"\n",
              "              title=\"Convert this dataframe to an interactive table.\"\n",
              "              style=\"display:none;\">\n",
              "        \n",
              "  <svg xmlns=\"http://www.w3.org/2000/svg\" height=\"24px\"viewBox=\"0 0 24 24\"\n",
              "       width=\"24px\">\n",
              "    <path d=\"M0 0h24v24H0V0z\" fill=\"none\"/>\n",
              "    <path d=\"M18.56 5.44l.94 2.06.94-2.06 2.06-.94-2.06-.94-.94-2.06-.94 2.06-2.06.94zm-11 1L8.5 8.5l.94-2.06 2.06-.94-2.06-.94L8.5 2.5l-.94 2.06-2.06.94zm10 10l.94 2.06.94-2.06 2.06-.94-2.06-.94-.94-2.06-.94 2.06-2.06.94z\"/><path d=\"M17.41 7.96l-1.37-1.37c-.4-.4-.92-.59-1.43-.59-.52 0-1.04.2-1.43.59L10.3 9.45l-7.72 7.72c-.78.78-.78 2.05 0 2.83L4 21.41c.39.39.9.59 1.41.59.51 0 1.02-.2 1.41-.59l7.78-7.78 2.81-2.81c.8-.78.8-2.07 0-2.86zM5.41 20L4 18.59l7.72-7.72 1.47 1.35L5.41 20z\"/>\n",
              "  </svg>\n",
              "      </button>\n",
              "      \n",
              "  <style>\n",
              "    .colab-df-container {\n",
              "      display:flex;\n",
              "      flex-wrap:wrap;\n",
              "      gap: 12px;\n",
              "    }\n",
              "\n",
              "    .colab-df-convert {\n",
              "      background-color: #E8F0FE;\n",
              "      border: none;\n",
              "      border-radius: 50%;\n",
              "      cursor: pointer;\n",
              "      display: none;\n",
              "      fill: #1967D2;\n",
              "      height: 32px;\n",
              "      padding: 0 0 0 0;\n",
              "      width: 32px;\n",
              "    }\n",
              "\n",
              "    .colab-df-convert:hover {\n",
              "      background-color: #E2EBFA;\n",
              "      box-shadow: 0px 1px 2px rgba(60, 64, 67, 0.3), 0px 1px 3px 1px rgba(60, 64, 67, 0.15);\n",
              "      fill: #174EA6;\n",
              "    }\n",
              "\n",
              "    [theme=dark] .colab-df-convert {\n",
              "      background-color: #3B4455;\n",
              "      fill: #D2E3FC;\n",
              "    }\n",
              "\n",
              "    [theme=dark] .colab-df-convert:hover {\n",
              "      background-color: #434B5C;\n",
              "      box-shadow: 0px 1px 3px 1px rgba(0, 0, 0, 0.15);\n",
              "      filter: drop-shadow(0px 1px 2px rgba(0, 0, 0, 0.3));\n",
              "      fill: #FFFFFF;\n",
              "    }\n",
              "  </style>\n",
              "\n",
              "      <script>\n",
              "        const buttonEl =\n",
              "          document.querySelector('#df-5e78c5ac-095b-4dee-8e91-37e637c8c6b5 button.colab-df-convert');\n",
              "        buttonEl.style.display =\n",
              "          google.colab.kernel.accessAllowed ? 'block' : 'none';\n",
              "\n",
              "        async function convertToInteractive(key) {\n",
              "          const element = document.querySelector('#df-5e78c5ac-095b-4dee-8e91-37e637c8c6b5');\n",
              "          const dataTable =\n",
              "            await google.colab.kernel.invokeFunction('convertToInteractive',\n",
              "                                                     [key], {});\n",
              "          if (!dataTable) return;\n",
              "\n",
              "          const docLinkHtml = 'Like what you see? Visit the ' +\n",
              "            '<a target=\"_blank\" href=https://colab.research.google.com/notebooks/data_table.ipynb>data table notebook</a>'\n",
              "            + ' to learn more about interactive tables.';\n",
              "          element.innerHTML = '';\n",
              "          dataTable['output_type'] = 'display_data';\n",
              "          await google.colab.output.renderOutput(dataTable, element);\n",
              "          const docLink = document.createElement('div');\n",
              "          docLink.innerHTML = docLinkHtml;\n",
              "          element.appendChild(docLink);\n",
              "        }\n",
              "      </script>\n",
              "    </div>\n",
              "  </div>\n",
              "  "
            ]
          },
          "metadata": {},
          "execution_count": 55
        }
      ]
    },
    {
      "cell_type": "code",
      "source": [
        "test_.shape"
      ],
      "metadata": {
        "colab": {
          "base_uri": "https://localhost:8080/"
        },
        "id": "cHrmI0gzWIQG",
        "outputId": "68e400f4-47da-43be-e26a-b4ef7a714df2"
      },
      "execution_count": null,
      "outputs": [
        {
          "output_type": "execute_result",
          "data": {
            "text/plain": [
              "(111, 2)"
            ]
          },
          "metadata": {},
          "execution_count": 56
        }
      ]
    },
    {
      "cell_type": "code",
      "source": [
        "test_[\"category\"].unique()"
      ],
      "metadata": {
        "colab": {
          "base_uri": "https://localhost:8080/"
        },
        "id": "XcjE4_k2WNE0",
        "outputId": "6840b7f3-2608-4337-ba66-12b321e74985"
      },
      "execution_count": null,
      "outputs": [
        {
          "output_type": "execute_result",
          "data": {
            "text/plain": [
              "array(['neu', 'pos', 'neg'], dtype=object)"
            ]
          },
          "metadata": {},
          "execution_count": 57
        }
      ]
    },
    {
      "cell_type": "code",
      "source": [
        "test_[\"processed\"] = test_.texts.map(lambda x: \"|\".join(process_thai(x)))\n",
        "test_[\"wc\"] = test_.processed.map(lambda x: len(x.split(\"|\")))\n",
        "test_[\"uwc\"] = test_.processed.map(lambda x: len(set(x.split(\"|\"))))"
      ],
      "metadata": {
        "id": "dBRz3X7vpnPa"
      },
      "execution_count": null,
      "outputs": []
    },
    {
      "cell_type": "code",
      "source": [
        "test_.shape"
      ],
      "metadata": {
        "colab": {
          "base_uri": "https://localhost:8080/"
        },
        "id": "UxtayT8EWJWv",
        "outputId": "cab9adcb-502b-4146-d444-2a581653c97f"
      },
      "execution_count": null,
      "outputs": [
        {
          "output_type": "execute_result",
          "data": {
            "text/plain": [
              "(111, 5)"
            ]
          },
          "metadata": {},
          "execution_count": 59
        }
      ]
    },
    {
      "cell_type": "code",
      "source": [
        "all_df.shape"
      ],
      "metadata": {
        "colab": {
          "base_uri": "https://localhost:8080/"
        },
        "id": "gbbF6qFMaeAS",
        "outputId": "8ae997f5-5542-436e-98ad-921091180036"
      },
      "execution_count": null,
      "outputs": [
        {
          "output_type": "execute_result",
          "data": {
            "text/plain": [
              "(24063, 5)"
            ]
          },
          "metadata": {},
          "execution_count": 60
        }
      ]
    },
    {
      "cell_type": "code",
      "source": [
        "all_df = pd.concat([all_df, test_])"
      ],
      "metadata": {
        "id": "I7QY-Bm7P388"
      },
      "execution_count": null,
      "outputs": []
    },
    {
      "cell_type": "code",
      "source": [
        "all_df.shape"
      ],
      "metadata": {
        "colab": {
          "base_uri": "https://localhost:8080/"
        },
        "id": "mKrlZSJNRy9O",
        "outputId": "bcdfffe1-32d0-403d-efa3-a8054c743b4d"
      },
      "execution_count": null,
      "outputs": [
        {
          "output_type": "execute_result",
          "data": {
            "text/plain": [
              "(24174, 5)"
            ]
          },
          "metadata": {},
          "execution_count": 62
        }
      ]
    },
    {
      "cell_type": "code",
      "source": [
        "print(all_df[\"category\"].unique())"
      ],
      "metadata": {
        "colab": {
          "base_uri": "https://localhost:8080/"
        },
        "id": "aNw4zPN5Sgd8",
        "outputId": "1974e5cc-3eb8-46ef-9b1d-54c4bbc57c8d"
      },
      "execution_count": null,
      "outputs": [
        {
          "output_type": "stream",
          "name": "stdout",
          "text": [
            "['neu' 'neg' 'pos' 'q']\n"
          ]
        }
      ]
    },
    {
      "cell_type": "code",
      "source": [
        "print(all_df[\"category\"].value_counts() / all_df.shape[0])"
      ],
      "metadata": {
        "colab": {
          "base_uri": "https://localhost:8080/"
        },
        "id": "sKzuFBiMSQxU",
        "outputId": "3295d659-1b5d-42d6-d356-7dff37f1e49f"
      },
      "execution_count": null,
      "outputs": [
        {
          "output_type": "stream",
          "name": "stdout",
          "text": [
            "neu    0.543518\n",
            "neg    0.255481\n",
            "pos    0.179573\n",
            "q      0.021428\n",
            "Name: category, dtype: float64\n"
          ]
        }
      ]
    },
    {
      "cell_type": "code",
      "execution_count": null,
      "metadata": {
        "id": "ioXCNzVX6z5h"
      },
      "outputs": [],
      "source": [
        "#when finding hyperparameters\n",
        "from sklearn.model_selection import train_test_split\n",
        "train_df, valid_df = train_test_split(all_df, test_size=0.15, random_state=1412)\n",
        "train_df = train_df.reset_index(drop=True)\n",
        "valid_df = valid_df.reset_index(drop=True)\n",
        "\n",
        "# #when actually doing it\n",
        "# train_df = all_df.copy()\n",
        "# valid_df = pd.read_csv('valid_df.csv')"
      ]
    },
    {
      "cell_type": "code",
      "execution_count": null,
      "metadata": {
        "colab": {
          "base_uri": "https://localhost:8080/",
          "height": 204
        },
        "id": "J5sCacbM6z5j",
        "outputId": "8a4c8f07-a1a8-49d5-c158-5c2a32ec99d4"
      },
      "outputs": [
        {
          "output_type": "execute_result",
          "data": {
            "text/plain": [
              "  category                                              texts  \\\n",
              "0      neu                                             4คนครบ   \n",
              "1      neu  ส่วนตัวมองว่าโอนเงินจากทรูวอลเลทเข้าธนาคารแล้ว...   \n",
              "2      neu  ความสุขแบบกลมกล่อมในคืน countdown คือ BLEND 28...   \n",
              "3      neu  กูขำ นึกว่าเหล้าจอนนี่วอคเกอร์ ไล่ไปตั้งแต่ เร...   \n",
              "4      neu  สาขาที่ร่วมรายการมีดังนี้ค่ะ บิ๊กซี โคราช โลตั...   \n",
              "\n",
              "                                           processed   wc  uwc  \n",
              "0                                           4|คน|ครบ    3    3  \n",
              "1  ส่วนตัว|มองว่า|โอน|เงิน|จาก|ท|รู|วอ|ลเลท|เข้า|...  167  102  \n",
              "2  ความสุข|แบบ|กลมกล่อม|ใน|คืน|countdown|คือ|blen...   74   64  \n",
              "3  กู|ขำ|นึก|ว่า|เหล้า|จอน|นี่|วอ|ค|เก|อร์|ไล่|ไป...   36   36  \n",
              "4  สาขา|ที่|ร่วม|รายการ|มี|ดังนี้|ค่ะ|บิ๊กซี|โครา...   33   23  "
            ],
            "text/html": [
              "\n",
              "  <div id=\"df-b56e33c5-d119-45e5-8411-ca9ce867c137\">\n",
              "    <div class=\"colab-df-container\">\n",
              "      <div>\n",
              "<style scoped>\n",
              "    .dataframe tbody tr th:only-of-type {\n",
              "        vertical-align: middle;\n",
              "    }\n",
              "\n",
              "    .dataframe tbody tr th {\n",
              "        vertical-align: top;\n",
              "    }\n",
              "\n",
              "    .dataframe thead th {\n",
              "        text-align: right;\n",
              "    }\n",
              "</style>\n",
              "<table border=\"1\" class=\"dataframe\">\n",
              "  <thead>\n",
              "    <tr style=\"text-align: right;\">\n",
              "      <th></th>\n",
              "      <th>category</th>\n",
              "      <th>texts</th>\n",
              "      <th>processed</th>\n",
              "      <th>wc</th>\n",
              "      <th>uwc</th>\n",
              "    </tr>\n",
              "  </thead>\n",
              "  <tbody>\n",
              "    <tr>\n",
              "      <th>0</th>\n",
              "      <td>neu</td>\n",
              "      <td>4คนครบ</td>\n",
              "      <td>4|คน|ครบ</td>\n",
              "      <td>3</td>\n",
              "      <td>3</td>\n",
              "    </tr>\n",
              "    <tr>\n",
              "      <th>1</th>\n",
              "      <td>neu</td>\n",
              "      <td>ส่วนตัวมองว่าโอนเงินจากทรูวอลเลทเข้าธนาคารแล้ว...</td>\n",
              "      <td>ส่วนตัว|มองว่า|โอน|เงิน|จาก|ท|รู|วอ|ลเลท|เข้า|...</td>\n",
              "      <td>167</td>\n",
              "      <td>102</td>\n",
              "    </tr>\n",
              "    <tr>\n",
              "      <th>2</th>\n",
              "      <td>neu</td>\n",
              "      <td>ความสุขแบบกลมกล่อมในคืน countdown คือ BLEND 28...</td>\n",
              "      <td>ความสุข|แบบ|กลมกล่อม|ใน|คืน|countdown|คือ|blen...</td>\n",
              "      <td>74</td>\n",
              "      <td>64</td>\n",
              "    </tr>\n",
              "    <tr>\n",
              "      <th>3</th>\n",
              "      <td>neu</td>\n",
              "      <td>กูขำ นึกว่าเหล้าจอนนี่วอคเกอร์ ไล่ไปตั้งแต่ เร...</td>\n",
              "      <td>กู|ขำ|นึก|ว่า|เหล้า|จอน|นี่|วอ|ค|เก|อร์|ไล่|ไป...</td>\n",
              "      <td>36</td>\n",
              "      <td>36</td>\n",
              "    </tr>\n",
              "    <tr>\n",
              "      <th>4</th>\n",
              "      <td>neu</td>\n",
              "      <td>สาขาที่ร่วมรายการมีดังนี้ค่ะ บิ๊กซี โคราช โลตั...</td>\n",
              "      <td>สาขา|ที่|ร่วม|รายการ|มี|ดังนี้|ค่ะ|บิ๊กซี|โครา...</td>\n",
              "      <td>33</td>\n",
              "      <td>23</td>\n",
              "    </tr>\n",
              "  </tbody>\n",
              "</table>\n",
              "</div>\n",
              "      <button class=\"colab-df-convert\" onclick=\"convertToInteractive('df-b56e33c5-d119-45e5-8411-ca9ce867c137')\"\n",
              "              title=\"Convert this dataframe to an interactive table.\"\n",
              "              style=\"display:none;\">\n",
              "        \n",
              "  <svg xmlns=\"http://www.w3.org/2000/svg\" height=\"24px\"viewBox=\"0 0 24 24\"\n",
              "       width=\"24px\">\n",
              "    <path d=\"M0 0h24v24H0V0z\" fill=\"none\"/>\n",
              "    <path d=\"M18.56 5.44l.94 2.06.94-2.06 2.06-.94-2.06-.94-.94-2.06-.94 2.06-2.06.94zm-11 1L8.5 8.5l.94-2.06 2.06-.94-2.06-.94L8.5 2.5l-.94 2.06-2.06.94zm10 10l.94 2.06.94-2.06 2.06-.94-2.06-.94-.94-2.06-.94 2.06-2.06.94z\"/><path d=\"M17.41 7.96l-1.37-1.37c-.4-.4-.92-.59-1.43-.59-.52 0-1.04.2-1.43.59L10.3 9.45l-7.72 7.72c-.78.78-.78 2.05 0 2.83L4 21.41c.39.39.9.59 1.41.59.51 0 1.02-.2 1.41-.59l7.78-7.78 2.81-2.81c.8-.78.8-2.07 0-2.86zM5.41 20L4 18.59l7.72-7.72 1.47 1.35L5.41 20z\"/>\n",
              "  </svg>\n",
              "      </button>\n",
              "      \n",
              "  <style>\n",
              "    .colab-df-container {\n",
              "      display:flex;\n",
              "      flex-wrap:wrap;\n",
              "      gap: 12px;\n",
              "    }\n",
              "\n",
              "    .colab-df-convert {\n",
              "      background-color: #E8F0FE;\n",
              "      border: none;\n",
              "      border-radius: 50%;\n",
              "      cursor: pointer;\n",
              "      display: none;\n",
              "      fill: #1967D2;\n",
              "      height: 32px;\n",
              "      padding: 0 0 0 0;\n",
              "      width: 32px;\n",
              "    }\n",
              "\n",
              "    .colab-df-convert:hover {\n",
              "      background-color: #E2EBFA;\n",
              "      box-shadow: 0px 1px 2px rgba(60, 64, 67, 0.3), 0px 1px 3px 1px rgba(60, 64, 67, 0.15);\n",
              "      fill: #174EA6;\n",
              "    }\n",
              "\n",
              "    [theme=dark] .colab-df-convert {\n",
              "      background-color: #3B4455;\n",
              "      fill: #D2E3FC;\n",
              "    }\n",
              "\n",
              "    [theme=dark] .colab-df-convert:hover {\n",
              "      background-color: #434B5C;\n",
              "      box-shadow: 0px 1px 3px 1px rgba(0, 0, 0, 0.15);\n",
              "      filter: drop-shadow(0px 1px 2px rgba(0, 0, 0, 0.3));\n",
              "      fill: #FFFFFF;\n",
              "    }\n",
              "  </style>\n",
              "\n",
              "      <script>\n",
              "        const buttonEl =\n",
              "          document.querySelector('#df-b56e33c5-d119-45e5-8411-ca9ce867c137 button.colab-df-convert');\n",
              "        buttonEl.style.display =\n",
              "          google.colab.kernel.accessAllowed ? 'block' : 'none';\n",
              "\n",
              "        async function convertToInteractive(key) {\n",
              "          const element = document.querySelector('#df-b56e33c5-d119-45e5-8411-ca9ce867c137');\n",
              "          const dataTable =\n",
              "            await google.colab.kernel.invokeFunction('convertToInteractive',\n",
              "                                                     [key], {});\n",
              "          if (!dataTable) return;\n",
              "\n",
              "          const docLinkHtml = 'Like what you see? Visit the ' +\n",
              "            '<a target=\"_blank\" href=https://colab.research.google.com/notebooks/data_table.ipynb>data table notebook</a>'\n",
              "            + ' to learn more about interactive tables.';\n",
              "          element.innerHTML = '';\n",
              "          dataTable['output_type'] = 'display_data';\n",
              "          await google.colab.output.renderOutput(dataTable, element);\n",
              "          const docLink = document.createElement('div');\n",
              "          docLink.innerHTML = docLinkHtml;\n",
              "          element.appendChild(docLink);\n",
              "        }\n",
              "      </script>\n",
              "    </div>\n",
              "  </div>\n",
              "  "
            ]
          },
          "metadata": {},
          "execution_count": 66
        }
      ],
      "source": [
        "valid_df.head()"
      ]
    },
    {
      "cell_type": "code",
      "execution_count": null,
      "metadata": {
        "colab": {
          "base_uri": "https://localhost:8080/"
        },
        "id": "GojEjj2k6z5m",
        "outputId": "90a112d7-44cd-4ab8-c37b-1b89b9a9c223"
      },
      "outputs": [
        {
          "output_type": "stream",
          "name": "stdout",
          "text": [
            "neu    0.543875\n",
            "neg    0.255074\n",
            "pos    0.179783\n",
            "q      0.021268\n",
            "Name: category, dtype: float64\n"
          ]
        }
      ],
      "source": [
        "#prevalence\n",
        "print(train_df[\"category\"].value_counts() / train_df.shape[0])"
      ]
    },
    {
      "cell_type": "code",
      "execution_count": null,
      "metadata": {
        "colab": {
          "base_uri": "https://localhost:8080/"
        },
        "id": "sH1t3bal6z5o",
        "outputId": "a362eab0-c626-46eb-9445-a173825975ea"
      },
      "outputs": [
        {
          "output_type": "stream",
          "name": "stdout",
          "text": [
            "neu    0.541494\n",
            "neg    0.257789\n",
            "pos    0.178384\n",
            "q      0.022333\n",
            "Name: category, dtype: float64\n"
          ]
        }
      ],
      "source": [
        "#prevalence\n",
        "print(valid_df[\"category\"].value_counts() / valid_df.shape[0])"
      ]
    },
    {
      "cell_type": "code",
      "execution_count": null,
      "metadata": {
        "colab": {
          "base_uri": "https://localhost:8080/"
        },
        "id": "iEDdQ9hH6z5c",
        "outputId": "4e60eb22-4e4a-4d6e-e475-1161939f1e15"
      },
      "outputs": [
        {
          "output_type": "execute_result",
          "data": {
            "text/plain": [
              "neu    0.543518\n",
              "neg    0.255481\n",
              "pos    0.179573\n",
              "q      0.021428\n",
              "Name: category, dtype: float64"
            ]
          },
          "metadata": {},
          "execution_count": 70
        }
      ],
      "source": [
        "#prevalence\n",
        "all_df.category.value_counts() / all_df.shape[0]"
      ]
    },
    {
      "cell_type": "markdown",
      "metadata": {
        "id": "-jPw7Rbu6z5f"
      },
      "source": [
        "## Train-validation Split"
      ]
    },
    {
      "cell_type": "markdown",
      "metadata": {
        "id": "oUAqMvNe6z5q"
      },
      "source": [
        "### Create Features"
      ]
    },
    {
      "cell_type": "code",
      "execution_count": null,
      "metadata": {
        "id": "5eI-DEzW6z5r"
      },
      "outputs": [],
      "source": [
        "#dependent variables\n",
        "y_train = train_df[\"category\"]\n",
        "y_valid = valid_df[\"category\"]"
      ]
    },
    {
      "cell_type": "code",
      "execution_count": null,
      "metadata": {
        "colab": {
          "base_uri": "https://localhost:8080/"
        },
        "id": "Ry4GTGaC6z5t",
        "outputId": "926053df-4a42-4574-c1a6-c74c3b4334bf"
      },
      "outputs": [
        {
          "output_type": "execute_result",
          "data": {
            "text/plain": [
              "((20547, 4640), (3627, 4640))"
            ]
          },
          "metadata": {},
          "execution_count": 73
        }
      ],
      "source": [
        "#text faetures\n",
        "from sklearn.feature_extraction.text import TfidfVectorizer\n",
        "from sklearn.linear_model import LogisticRegression\n",
        "\n",
        "tfidf = TfidfVectorizer(tokenizer=process_thai, ngram_range=(1,2), min_df=20, sublinear_tf=True)\n",
        "tfidf_fit = tfidf.fit(all_df[\"texts\"])\n",
        "text_train = tfidf_fit.transform(train_df[\"texts\"])\n",
        "text_valid = tfidf_fit.transform(valid_df[\"texts\"])\n",
        "text_test = tfidf_fit.transform(test_df[\"texts\"])\n",
        "text_train.shape, text_valid.shape"
      ]
    },
    {
      "cell_type": "code",
      "execution_count": null,
      "metadata": {
        "colab": {
          "base_uri": "https://localhost:8080/"
        },
        "id": "7MnvOFdC6z5v",
        "outputId": "17a073e3-bdac-453d-d63a-615b57a11e62"
      },
      "outputs": [
        {
          "output_type": "stream",
          "name": "stdout",
          "text": [
            "[21.94502358 18.19864317] [1150.1800255   509.92438634]\n"
          ]
        },
        {
          "output_type": "execute_result",
          "data": {
            "text/plain": [
              "((20547, 2), (3627, 2))"
            ]
          },
          "metadata": {},
          "execution_count": 75
        }
      ],
      "source": [
        "#word count and unique word counts; actually might not be so useful\n",
        "from sklearn.preprocessing import StandardScaler\n",
        "\n",
        "scaler = StandardScaler()\n",
        "scaler_fit = scaler.fit(all_df[[\"wc\",\"uwc\"]].astype(float))\n",
        "print(scaler_fit.mean_, scaler_fit.var_)\n",
        "num_train = scaler_fit.transform(train_df[[\"wc\",\"uwc\"]].astype(float))\n",
        "num_valid = scaler_fit.transform(valid_df[[\"wc\",\"uwc\"]].astype(float))\n",
        "num_test = scaler_fit.transform(test_df[[\"wc\",\"uwc\"]].astype(float))\n",
        "num_train.shape, num_valid.shape"
      ]
    },
    {
      "cell_type": "code",
      "execution_count": null,
      "metadata": {
        "colab": {
          "base_uri": "https://localhost:8080/"
        },
        "id": "bj5PA95S6z5w",
        "outputId": "47bb1d55-23c6-4eaa-bb1d-fc269dd968f6"
      },
      "outputs": [
        {
          "output_type": "execute_result",
          "data": {
            "text/plain": [
              "((20547, 4642), (3627, 4642))"
            ]
          },
          "metadata": {},
          "execution_count": 76
        }
      ],
      "source": [
        "#concatenate text and word count features\n",
        "X_train = np.concatenate([num_train,text_train.toarray()],axis=1)\n",
        "X_valid = np.concatenate([num_valid,text_valid.toarray()],axis=1)\n",
        "X_test = np.concatenate([num_test,text_test.toarray()],axis=1)\n",
        "X_train.shape, X_valid.shape"
      ]
    },
    {
      "cell_type": "markdown",
      "metadata": {
        "id": "W4prkGZr6z5y"
      },
      "source": [
        "### Fit Model"
      ]
    },
    {
      "cell_type": "code",
      "execution_count": null,
      "metadata": {
        "colab": {
          "base_uri": "https://localhost:8080/"
        },
        "id": "_2IKPcUL6z5z",
        "outputId": "fa7caff9-f89d-48d4-e3bd-cfebd9003c96"
      },
      "outputs": [
        {
          "output_type": "execute_result",
          "data": {
            "text/plain": [
              "0.7212572373862697"
            ]
          },
          "metadata": {},
          "execution_count": 77
        }
      ],
      "source": [
        "#fit logistic regression models\n",
        "model = LogisticRegression(C=2., penalty=\"l2\", solver=\"liblinear\", dual=False, multi_class=\"ovr\")\n",
        "model.fit(X_train,y_train)\n",
        "model.score(X_valid,y_valid)"
      ]
    },
    {
      "cell_type": "markdown",
      "metadata": {
        "id": "jFGtgFHF6z51"
      },
      "source": [
        "### See Results"
      ]
    },
    {
      "cell_type": "code",
      "execution_count": null,
      "metadata": {
        "id": "7cub1c5S6z51"
      },
      "outputs": [],
      "source": [
        "probs = model.predict_proba(X_valid)\n",
        "probs_df = pd.DataFrame(probs)\n",
        "probs_df.columns = model.classes_\n",
        "probs_df[\"preds\"] = model.predict(X_valid)\n",
        "probs_df[\"category\"] = valid_df.category\n",
        "probs_df[\"texts\"] = valid_df.texts\n",
        "probs_df[\"processed\"] = valid_df.processed\n",
        "probs_df[\"wc\"] = valid_df.wc\n",
        "probs_df[\"uwc\"] = valid_df.uwc\n",
        "probs_df[\"hit\"] = (probs_df.preds==probs_df.category)\n",
        "probs_df.to_csv(\"probs_df_linear.csv\", index=False)"
      ]
    },
    {
      "cell_type": "code",
      "source": [
        "probs_df.iloc[2305: 2308]"
      ],
      "metadata": {
        "colab": {
          "base_uri": "https://localhost:8080/",
          "height": 142
        },
        "id": "KYYdCubgmslm",
        "outputId": "ea27136b-7cee-45f2-a535-2c692a64201c"
      },
      "execution_count": null,
      "outputs": [
        {
          "output_type": "execute_result",
          "data": {
            "text/plain": [
              "           neg       neu       pos         q preds category  \\\n",
              "2305  0.883434  0.063556  0.050976  0.002034   neg      neg   \n",
              "2306  0.555684  0.411429  0.030825  0.002062   neg      neg   \n",
              "2307  0.904048  0.020194  0.071602  0.004156   neg      neg   \n",
              "\n",
              "                                                  texts  \\\n",
              "2305  ไม่น่าหลงเชื่อไอพลอยเลย กินสปายละแสบท้องมาก ฮื...   \n",
              "2306  ลูกค้าบอกรถมีเสียงในห้องเครื่อง....ตรวจเช็คเสี...   \n",
              "2307                              Kulov แม่งเมาค้างมากก   \n",
              "\n",
              "                                              processed  wc  uwc   hit  \n",
              "2305  ไม่น่า|หลงเชื่อ|ไอ|พลอย|เลย|กิน|สปา|ย|ละ|แสบ|ท...  14   14  True  \n",
              "2306  ลูกค้า|บอก|รถ|มีเสียง|ใน|ห้องเครื่อง|.|xxrep|ต...  19   18  True  \n",
              "2307                          kulov|แม่|ง|เมาค้าง|มา|กก   6    6  True  "
            ],
            "text/html": [
              "\n",
              "  <div id=\"df-36119ecc-da6f-47a6-b764-ab7c498fd032\">\n",
              "    <div class=\"colab-df-container\">\n",
              "      <div>\n",
              "<style scoped>\n",
              "    .dataframe tbody tr th:only-of-type {\n",
              "        vertical-align: middle;\n",
              "    }\n",
              "\n",
              "    .dataframe tbody tr th {\n",
              "        vertical-align: top;\n",
              "    }\n",
              "\n",
              "    .dataframe thead th {\n",
              "        text-align: right;\n",
              "    }\n",
              "</style>\n",
              "<table border=\"1\" class=\"dataframe\">\n",
              "  <thead>\n",
              "    <tr style=\"text-align: right;\">\n",
              "      <th></th>\n",
              "      <th>neg</th>\n",
              "      <th>neu</th>\n",
              "      <th>pos</th>\n",
              "      <th>q</th>\n",
              "      <th>preds</th>\n",
              "      <th>category</th>\n",
              "      <th>texts</th>\n",
              "      <th>processed</th>\n",
              "      <th>wc</th>\n",
              "      <th>uwc</th>\n",
              "      <th>hit</th>\n",
              "    </tr>\n",
              "  </thead>\n",
              "  <tbody>\n",
              "    <tr>\n",
              "      <th>2305</th>\n",
              "      <td>0.883434</td>\n",
              "      <td>0.063556</td>\n",
              "      <td>0.050976</td>\n",
              "      <td>0.002034</td>\n",
              "      <td>neg</td>\n",
              "      <td>neg</td>\n",
              "      <td>ไม่น่าหลงเชื่อไอพลอยเลย กินสปายละแสบท้องมาก ฮื...</td>\n",
              "      <td>ไม่น่า|หลงเชื่อ|ไอ|พลอย|เลย|กิน|สปา|ย|ละ|แสบ|ท...</td>\n",
              "      <td>14</td>\n",
              "      <td>14</td>\n",
              "      <td>True</td>\n",
              "    </tr>\n",
              "    <tr>\n",
              "      <th>2306</th>\n",
              "      <td>0.555684</td>\n",
              "      <td>0.411429</td>\n",
              "      <td>0.030825</td>\n",
              "      <td>0.002062</td>\n",
              "      <td>neg</td>\n",
              "      <td>neg</td>\n",
              "      <td>ลูกค้าบอกรถมีเสียงในห้องเครื่อง....ตรวจเช็คเสี...</td>\n",
              "      <td>ลูกค้า|บอก|รถ|มีเสียง|ใน|ห้องเครื่อง|.|xxrep|ต...</td>\n",
              "      <td>19</td>\n",
              "      <td>18</td>\n",
              "      <td>True</td>\n",
              "    </tr>\n",
              "    <tr>\n",
              "      <th>2307</th>\n",
              "      <td>0.904048</td>\n",
              "      <td>0.020194</td>\n",
              "      <td>0.071602</td>\n",
              "      <td>0.004156</td>\n",
              "      <td>neg</td>\n",
              "      <td>neg</td>\n",
              "      <td>Kulov แม่งเมาค้างมากก</td>\n",
              "      <td>kulov|แม่|ง|เมาค้าง|มา|กก</td>\n",
              "      <td>6</td>\n",
              "      <td>6</td>\n",
              "      <td>True</td>\n",
              "    </tr>\n",
              "  </tbody>\n",
              "</table>\n",
              "</div>\n",
              "      <button class=\"colab-df-convert\" onclick=\"convertToInteractive('df-36119ecc-da6f-47a6-b764-ab7c498fd032')\"\n",
              "              title=\"Convert this dataframe to an interactive table.\"\n",
              "              style=\"display:none;\">\n",
              "        \n",
              "  <svg xmlns=\"http://www.w3.org/2000/svg\" height=\"24px\"viewBox=\"0 0 24 24\"\n",
              "       width=\"24px\">\n",
              "    <path d=\"M0 0h24v24H0V0z\" fill=\"none\"/>\n",
              "    <path d=\"M18.56 5.44l.94 2.06.94-2.06 2.06-.94-2.06-.94-.94-2.06-.94 2.06-2.06.94zm-11 1L8.5 8.5l.94-2.06 2.06-.94-2.06-.94L8.5 2.5l-.94 2.06-2.06.94zm10 10l.94 2.06.94-2.06 2.06-.94-2.06-.94-.94-2.06-.94 2.06-2.06.94z\"/><path d=\"M17.41 7.96l-1.37-1.37c-.4-.4-.92-.59-1.43-.59-.52 0-1.04.2-1.43.59L10.3 9.45l-7.72 7.72c-.78.78-.78 2.05 0 2.83L4 21.41c.39.39.9.59 1.41.59.51 0 1.02-.2 1.41-.59l7.78-7.78 2.81-2.81c.8-.78.8-2.07 0-2.86zM5.41 20L4 18.59l7.72-7.72 1.47 1.35L5.41 20z\"/>\n",
              "  </svg>\n",
              "      </button>\n",
              "      \n",
              "  <style>\n",
              "    .colab-df-container {\n",
              "      display:flex;\n",
              "      flex-wrap:wrap;\n",
              "      gap: 12px;\n",
              "    }\n",
              "\n",
              "    .colab-df-convert {\n",
              "      background-color: #E8F0FE;\n",
              "      border: none;\n",
              "      border-radius: 50%;\n",
              "      cursor: pointer;\n",
              "      display: none;\n",
              "      fill: #1967D2;\n",
              "      height: 32px;\n",
              "      padding: 0 0 0 0;\n",
              "      width: 32px;\n",
              "    }\n",
              "\n",
              "    .colab-df-convert:hover {\n",
              "      background-color: #E2EBFA;\n",
              "      box-shadow: 0px 1px 2px rgba(60, 64, 67, 0.3), 0px 1px 3px 1px rgba(60, 64, 67, 0.15);\n",
              "      fill: #174EA6;\n",
              "    }\n",
              "\n",
              "    [theme=dark] .colab-df-convert {\n",
              "      background-color: #3B4455;\n",
              "      fill: #D2E3FC;\n",
              "    }\n",
              "\n",
              "    [theme=dark] .colab-df-convert:hover {\n",
              "      background-color: #434B5C;\n",
              "      box-shadow: 0px 1px 3px 1px rgba(0, 0, 0, 0.15);\n",
              "      filter: drop-shadow(0px 1px 2px rgba(0, 0, 0, 0.3));\n",
              "      fill: #FFFFFF;\n",
              "    }\n",
              "  </style>\n",
              "\n",
              "      <script>\n",
              "        const buttonEl =\n",
              "          document.querySelector('#df-36119ecc-da6f-47a6-b764-ab7c498fd032 button.colab-df-convert');\n",
              "        buttonEl.style.display =\n",
              "          google.colab.kernel.accessAllowed ? 'block' : 'none';\n",
              "\n",
              "        async function convertToInteractive(key) {\n",
              "          const element = document.querySelector('#df-36119ecc-da6f-47a6-b764-ab7c498fd032');\n",
              "          const dataTable =\n",
              "            await google.colab.kernel.invokeFunction('convertToInteractive',\n",
              "                                                     [key], {});\n",
              "          if (!dataTable) return;\n",
              "\n",
              "          const docLinkHtml = 'Like what you see? Visit the ' +\n",
              "            '<a target=\"_blank\" href=https://colab.research.google.com/notebooks/data_table.ipynb>data table notebook</a>'\n",
              "            + ' to learn more about interactive tables.';\n",
              "          element.innerHTML = '';\n",
              "          dataTable['output_type'] = 'display_data';\n",
              "          await google.colab.output.renderOutput(dataTable, element);\n",
              "          const docLink = document.createElement('div');\n",
              "          docLink.innerHTML = docLinkHtml;\n",
              "          element.appendChild(docLink);\n",
              "        }\n",
              "      </script>\n",
              "    </div>\n",
              "  </div>\n",
              "  "
            ]
          },
          "metadata": {},
          "execution_count": 99
        }
      ]
    },
    {
      "cell_type": "code",
      "source": [
        "dt = pd.DataFrame(columns=probs_df.columns)\n",
        "for a in probs_df.index:\n",
        "  if (probs_df.loc[a, \"category\"]==\"neg\") and (probs_df.loc[a, \"preds\"]==\"neg\"):\n",
        "    dt = pd.concat([dt, probs_df.iloc[a]])"
      ],
      "metadata": {
        "colab": {
          "base_uri": "https://localhost:8080/",
          "height": 49
        },
        "id": "bi0iGGHNiJvF",
        "outputId": "a37d42b1-ad74-44a3-e7eb-36c2e6c81447"
      },
      "execution_count": null,
      "outputs": [
        {
          "output_type": "execute_result",
          "data": {
            "text/plain": [
              "Empty DataFrame\n",
              "Columns: [neg, neu, pos, q, preds, category, texts, processed, wc, uwc, hit]\n",
              "Index: []"
            ],
            "text/html": [
              "\n",
              "  <div id=\"df-3657d05a-e408-4e93-bad4-0a286d248d30\">\n",
              "    <div class=\"colab-df-container\">\n",
              "      <div>\n",
              "<style scoped>\n",
              "    .dataframe tbody tr th:only-of-type {\n",
              "        vertical-align: middle;\n",
              "    }\n",
              "\n",
              "    .dataframe tbody tr th {\n",
              "        vertical-align: top;\n",
              "    }\n",
              "\n",
              "    .dataframe thead th {\n",
              "        text-align: right;\n",
              "    }\n",
              "</style>\n",
              "<table border=\"1\" class=\"dataframe\">\n",
              "  <thead>\n",
              "    <tr style=\"text-align: right;\">\n",
              "      <th></th>\n",
              "      <th>neg</th>\n",
              "      <th>neu</th>\n",
              "      <th>pos</th>\n",
              "      <th>q</th>\n",
              "      <th>preds</th>\n",
              "      <th>category</th>\n",
              "      <th>texts</th>\n",
              "      <th>processed</th>\n",
              "      <th>wc</th>\n",
              "      <th>uwc</th>\n",
              "      <th>hit</th>\n",
              "    </tr>\n",
              "  </thead>\n",
              "  <tbody>\n",
              "  </tbody>\n",
              "</table>\n",
              "</div>\n",
              "      <button class=\"colab-df-convert\" onclick=\"convertToInteractive('df-3657d05a-e408-4e93-bad4-0a286d248d30')\"\n",
              "              title=\"Convert this dataframe to an interactive table.\"\n",
              "              style=\"display:none;\">\n",
              "        \n",
              "  <svg xmlns=\"http://www.w3.org/2000/svg\" height=\"24px\"viewBox=\"0 0 24 24\"\n",
              "       width=\"24px\">\n",
              "    <path d=\"M0 0h24v24H0V0z\" fill=\"none\"/>\n",
              "    <path d=\"M18.56 5.44l.94 2.06.94-2.06 2.06-.94-2.06-.94-.94-2.06-.94 2.06-2.06.94zm-11 1L8.5 8.5l.94-2.06 2.06-.94-2.06-.94L8.5 2.5l-.94 2.06-2.06.94zm10 10l.94 2.06.94-2.06 2.06-.94-2.06-.94-.94-2.06-.94 2.06-2.06.94z\"/><path d=\"M17.41 7.96l-1.37-1.37c-.4-.4-.92-.59-1.43-.59-.52 0-1.04.2-1.43.59L10.3 9.45l-7.72 7.72c-.78.78-.78 2.05 0 2.83L4 21.41c.39.39.9.59 1.41.59.51 0 1.02-.2 1.41-.59l7.78-7.78 2.81-2.81c.8-.78.8-2.07 0-2.86zM5.41 20L4 18.59l7.72-7.72 1.47 1.35L5.41 20z\"/>\n",
              "  </svg>\n",
              "      </button>\n",
              "      \n",
              "  <style>\n",
              "    .colab-df-container {\n",
              "      display:flex;\n",
              "      flex-wrap:wrap;\n",
              "      gap: 12px;\n",
              "    }\n",
              "\n",
              "    .colab-df-convert {\n",
              "      background-color: #E8F0FE;\n",
              "      border: none;\n",
              "      border-radius: 50%;\n",
              "      cursor: pointer;\n",
              "      display: none;\n",
              "      fill: #1967D2;\n",
              "      height: 32px;\n",
              "      padding: 0 0 0 0;\n",
              "      width: 32px;\n",
              "    }\n",
              "\n",
              "    .colab-df-convert:hover {\n",
              "      background-color: #E2EBFA;\n",
              "      box-shadow: 0px 1px 2px rgba(60, 64, 67, 0.3), 0px 1px 3px 1px rgba(60, 64, 67, 0.15);\n",
              "      fill: #174EA6;\n",
              "    }\n",
              "\n",
              "    [theme=dark] .colab-df-convert {\n",
              "      background-color: #3B4455;\n",
              "      fill: #D2E3FC;\n",
              "    }\n",
              "\n",
              "    [theme=dark] .colab-df-convert:hover {\n",
              "      background-color: #434B5C;\n",
              "      box-shadow: 0px 1px 3px 1px rgba(0, 0, 0, 0.15);\n",
              "      filter: drop-shadow(0px 1px 2px rgba(0, 0, 0, 0.3));\n",
              "      fill: #FFFFFF;\n",
              "    }\n",
              "  </style>\n",
              "\n",
              "      <script>\n",
              "        const buttonEl =\n",
              "          document.querySelector('#df-3657d05a-e408-4e93-bad4-0a286d248d30 button.colab-df-convert');\n",
              "        buttonEl.style.display =\n",
              "          google.colab.kernel.accessAllowed ? 'block' : 'none';\n",
              "\n",
              "        async function convertToInteractive(key) {\n",
              "          const element = document.querySelector('#df-3657d05a-e408-4e93-bad4-0a286d248d30');\n",
              "          const dataTable =\n",
              "            await google.colab.kernel.invokeFunction('convertToInteractive',\n",
              "                                                     [key], {});\n",
              "          if (!dataTable) return;\n",
              "\n",
              "          const docLinkHtml = 'Like what you see? Visit the ' +\n",
              "            '<a target=\"_blank\" href=https://colab.research.google.com/notebooks/data_table.ipynb>data table notebook</a>'\n",
              "            + ' to learn more about interactive tables.';\n",
              "          element.innerHTML = '';\n",
              "          dataTable['output_type'] = 'display_data';\n",
              "          await google.colab.output.renderOutput(dataTable, element);\n",
              "          const docLink = document.createElement('div');\n",
              "          docLink.innerHTML = docLinkHtml;\n",
              "          element.appendChild(docLink);\n",
              "        }\n",
              "      </script>\n",
              "    </div>\n",
              "  </div>\n",
              "  "
            ]
          },
          "metadata": {},
          "execution_count": 95
        }
      ]
    },
    {
      "cell_type": "code",
      "execution_count": null,
      "metadata": {
        "colab": {
          "base_uri": "https://localhost:8080/",
          "height": 313
        },
        "id": "pa4Q0nPS6z54",
        "outputId": "b1c04c5a-2f71-471b-a33c-bcb9583e1dbd"
      },
      "outputs": [
        {
          "output_type": "stream",
          "name": "stderr",
          "text": [
            "WARNING:matplotlib.font_manager:findfont: Font family ['TH Sarabun New'] not found. Falling back to DejaVu Sans.\n"
          ]
        },
        {
          "output_type": "stream",
          "name": "stdout",
          "text": [
            "0.7212572373862697\n"
          ]
        },
        {
          "output_type": "display_data",
          "data": {
            "text/plain": [
              "<Figure size 432x288 with 2 Axes>"
            ],
            "image/png": "[encoded data removed]"
          },
          "metadata": {
            "needs_background": "light"
          }
        }
      ],
      "source": [
        "from sklearn.metrics import confusion_matrix\n",
        "\n",
        "conf_mat = confusion_matrix(probs_df.category,probs_df.preds)\n",
        "print(model.score(X_valid,y_valid))\n",
        "sns.heatmap(conf_mat, annot=True, fmt=\"d\",\n",
        "            xticklabels=model.classes_, yticklabels=model.classes_)\n",
        "plt.ylabel(\"Actual\")\n",
        "plt.xlabel(\"Predicted\")\n",
        "plt.show()"
      ]
    }
  ],
  "metadata": {
    "accelerator": "GPU",
    "colab": {
      "provenance": []
    },
    "kernelspec": {
      "display_name": "Python 3",
      "language": "python",
      "name": "python3"
    },
    "language_info": {
      "codemirror_mode": {
        "name": "ipython",
        "version": 3
      },
      "file_extension": ".py",
      "mimetype": "text/x-python",
      "name": "python",
      "nbconvert_exporter": "python",
      "pygments_lexer": "ipython3",
      "version": "3.8.5"
    },
    "widgets": {
      "application/vnd.jupyter.widget-state+json": {
        "447db7ba36a7430aa6b5f113ae1b332e": {
          "model_module": "@jupyter-widgets/controls",
          "model_name": "HBoxModel",
          "model_module_version": "1.5.0",
          "state": {
            "_dom_classes": [],
            "_model_module": "@jupyter-widgets/controls",
            "_model_module_version": "1.5.0",
            "_model_name": "HBoxModel",
            "_view_count": null,
            "_view_module": "@jupyter-widgets/controls",
            "_view_module_version": "1.5.0",
            "_view_name": "HBoxView",
            "box_style": "",
            "children": [
              "IPY_MODEL_9112bb6e15b84645968b9fb2bd3cd0e9",
              "IPY_MODEL_7791a486651f473d84285f0281c83ea3",
              "IPY_MODEL_5aeff5f5fbc0449ab7feee6a1fe275e6"
            ],
            "layout": "IPY_MODEL_8e4c22677ec248449044abea6bd8d45c"
          }
        },
        "9112bb6e15b84645968b9fb2bd3cd0e9": {
          "model_module": "@jupyter-widgets/controls",
          "model_name": "HTMLModel",
          "model_module_version": "1.5.0",
          "state": {
            "_dom_classes": [],
            "_model_module": "@jupyter-widgets/controls",
            "_model_module_version": "1.5.0",
            "_model_name": "HTMLModel",
            "_view_count": null,
            "_view_module": "@jupyter-widgets/controls",
            "_view_module_version": "1.5.0",
            "_view_name": "HTMLView",
            "description": "",
            "description_tooltip": null,
            "layout": "IPY_MODEL_e72cfcc2613a4446a0c1190d0eb07854",
            "placeholder": "​",
            "style": "IPY_MODEL_eaa8363e301a4568ad181311371bc984",
            "value": "100%"
          }
        },
        "7791a486651f473d84285f0281c83ea3": {
          "model_module": "@jupyter-widgets/controls",
          "model_name": "FloatProgressModel",
          "model_module_version": "1.5.0",
          "state": {
            "_dom_classes": [],
            "_model_module": "@jupyter-widgets/controls",
            "_model_module_version": "1.5.0",
            "_model_name": "FloatProgressModel",
            "_view_count": null,
            "_view_module": "@jupyter-widgets/controls",
            "_view_module_version": "1.5.0",
            "_view_name": "ProgressView",
            "bar_style": "success",
            "description": "",
            "description_tooltip": null,
            "layout": "IPY_MODEL_318d4859e85940eeb4e70fe793fb50c1",
            "max": 1050919089,
            "min": 0,
            "orientation": "horizontal",
            "style": "IPY_MODEL_f675a3a1c084470da3699693252d7b24",
            "value": 1050919089
          }
        },
        "5aeff5f5fbc0449ab7feee6a1fe275e6": {
          "model_module": "@jupyter-widgets/controls",
          "model_name": "HTMLModel",
          "model_module_version": "1.5.0",
          "state": {
            "_dom_classes": [],
            "_model_module": "@jupyter-widgets/controls",
            "_model_module_version": "1.5.0",
            "_model_name": "HTMLModel",
            "_view_count": null,
            "_view_module": "@jupyter-widgets/controls",
            "_view_module_version": "1.5.0",
            "_view_name": "HTMLView",
            "description": "",
            "description_tooltip": null,
            "layout": "IPY_MODEL_11b8fe12c6ce4152a4be6c3f6948555b",
            "placeholder": "​",
            "style": "IPY_MODEL_63a599b0608f4a04ad0fddaa0c36ff08",
            "value": " 1050919089/1050919089 [00:30&lt;00:00, 46337897.08it/s]"
          }
        },
        "8e4c22677ec248449044abea6bd8d45c": {
          "model_module": "@jupyter-widgets/base",
          "model_name": "LayoutModel",
          "model_module_version": "1.2.0",
          "state": {
            "_model_module": "@jupyter-widgets/base",
            "_model_module_version": "1.2.0",
            "_model_name": "LayoutModel",
            "_view_count": null,
            "_view_module": "@jupyter-widgets/base",
            "_view_module_version": "1.2.0",
            "_view_name": "LayoutView",
            "align_content": null,
            "align_items": null,
            "align_self": null,
            "border": null,
            "bottom": null,
            "display": null,
            "flex": null,
            "flex_flow": null,
            "grid_area": null,
            "grid_auto_columns": null,
            "grid_auto_flow": null,
            "grid_auto_rows": null,
            "grid_column": null,
            "grid_gap": null,
            "grid_row": null,
            "grid_template_areas": null,
            "grid_template_columns": null,
            "grid_template_rows": null,
            "height": null,
            "justify_content": null,
            "justify_items": null,
            "left": null,
            "margin": null,
            "max_height": null,
            "max_width": null,
            "min_height": null,
            "min_width": null,
            "object_fit": null,
            "object_position": null,
            "order": null,
            "overflow": null,
            "overflow_x": null,
            "overflow_y": null,
            "padding": null,
            "right": null,
            "top": null,
            "visibility": null,
            "width": null
          }
        },
        "e72cfcc2613a4446a0c1190d0eb07854": {
          "model_module": "@jupyter-widgets/base",
          "model_name": "LayoutModel",
          "model_module_version": "1.2.0",
          "state": {
            "_model_module": "@jupyter-widgets/base",
            "_model_module_version": "1.2.0",
            "_model_name": "LayoutModel",
            "_view_count": null,
            "_view_module": "@jupyter-widgets/base",
            "_view_module_version": "1.2.0",
            "_view_name": "LayoutView",
            "align_content": null,
            "align_items": null,
            "align_self": null,
            "border": null,
            "bottom": null,
            "display": null,
            "flex": null,
            "flex_flow": null,
            "grid_area": null,
            "grid_auto_columns": null,
            "grid_auto_flow": null,
            "grid_auto_rows": null,
            "grid_column": null,
            "grid_gap": null,
            "grid_row": null,
            "grid_template_areas": null,
            "grid_template_columns": null,
            "grid_template_rows": null,
            "height": null,
            "justify_content": null,
            "justify_items": null,
            "left": null,
            "margin": null,
            "max_height": null,
            "max_width": null,
            "min_height": null,
            "min_width": null,
            "object_fit": null,
            "object_position": null,
            "order": null,
            "overflow": null,
            "overflow_x": null,
            "overflow_y": null,
            "padding": null,
            "right": null,
            "top": null,
            "visibility": null,
            "width": null
          }
        },
        "eaa8363e301a4568ad181311371bc984": {
          "model_module": "@jupyter-widgets/controls",
          "model_name": "DescriptionStyleModel",
          "model_module_version": "1.5.0",
          "state": {
            "_model_module": "@jupyter-widgets/controls",
            "_model_module_version": "1.5.0",
            "_model_name": "DescriptionStyleModel",
            "_view_count": null,
            "_view_module": "@jupyter-widgets/base",
            "_view_module_version": "1.2.0",
            "_view_name": "StyleView",
            "description_width": ""
          }
        },
        "318d4859e85940eeb4e70fe793fb50c1": {
          "model_module": "@jupyter-widgets/base",
          "model_name": "LayoutModel",
          "model_module_version": "1.2.0",
          "state": {
            "_model_module": "@jupyter-widgets/base",
            "_model_module_version": "1.2.0",
            "_model_name": "LayoutModel",
            "_view_count": null,
            "_view_module": "@jupyter-widgets/base",
            "_view_module_version": "1.2.0",
            "_view_name": "LayoutView",
            "align_content": null,
            "align_items": null,
            "align_self": null,
            "border": null,
            "bottom": null,
            "display": null,
            "flex": null,
            "flex_flow": null,
            "grid_area": null,
            "grid_auto_columns": null,
            "grid_auto_flow": null,
            "grid_auto_rows": null,
            "grid_column": null,
            "grid_gap": null,
            "grid_row": null,
            "grid_template_areas": null,
            "grid_template_columns": null,
            "grid_template_rows": null,
            "height": null,
            "justify_content": null,
            "justify_items": null,
            "left": null,
            "margin": null,
            "max_height": null,
            "max_width": null,
            "min_height": null,
            "min_width": null,
            "object_fit": null,
            "object_position": null,
            "order": null,
            "overflow": null,
            "overflow_x": null,
            "overflow_y": null,
            "padding": null,
            "right": null,
            "top": null,
            "visibility": null,
            "width": null
          }
        },
        "f675a3a1c084470da3699693252d7b24": {
          "model_module": "@jupyter-widgets/controls",
          "model_name": "ProgressStyleModel",
          "model_module_version": "1.5.0",
          "state": {
            "_model_module": "@jupyter-widgets/controls",
            "_model_module_version": "1.5.0",
            "_model_name": "ProgressStyleModel",
            "_view_count": null,
            "_view_module": "@jupyter-widgets/base",
            "_view_module_version": "1.2.0",
            "_view_name": "StyleView",
            "bar_color": null,
            "description_width": ""
          }
        },
        "11b8fe12c6ce4152a4be6c3f6948555b": {
          "model_module": "@jupyter-widgets/base",
          "model_name": "LayoutModel",
          "model_module_version": "1.2.0",
          "state": {
            "_model_module": "@jupyter-widgets/base",
            "_model_module_version": "1.2.0",
            "_model_name": "LayoutModel",
            "_view_count": null,
            "_view_module": "@jupyter-widgets/base",
            "_view_module_version": "1.2.0",
            "_view_name": "LayoutView",
            "align_content": null,
            "align_items": null,
            "align_self": null,
            "border": null,
            "bottom": null,
            "display": null,
            "flex": null,
            "flex_flow": null,
            "grid_area": null,
            "grid_auto_columns": null,
            "grid_auto_flow": null,
            "grid_auto_rows": null,
            "grid_column": null,
            "grid_gap": null,
            "grid_row": null,
            "grid_template_areas": null,
            "grid_template_columns": null,
            "grid_template_rows": null,
            "height": null,
            "justify_content": null,
            "justify_items": null,
            "left": null,
            "margin": null,
            "max_height": null,
            "max_width": null,
            "min_height": null,
            "min_width": null,
            "object_fit": null,
            "object_position": null,
            "order": null,
            "overflow": null,
            "overflow_x": null,
            "overflow_y": null,
            "padding": null,
            "right": null,
            "top": null,
            "visibility": null,
            "width": null
          }
        },
        "63a599b0608f4a04ad0fddaa0c36ff08": {
          "model_module": "@jupyter-widgets/controls",
          "model_name": "DescriptionStyleModel",
          "model_module_version": "1.5.0",
          "state": {
            "_model_module": "@jupyter-widgets/controls",
            "_model_module_version": "1.5.0",
            "_model_name": "DescriptionStyleModel",
            "_view_count": null,
            "_view_module": "@jupyter-widgets/base",
            "_view_module_version": "1.2.0",
            "_view_name": "StyleView",
            "description_width": ""
          }
        },
        "421710e20431452eb58c2e9c6f86de5f": {
          "model_module": "@jupyter-widgets/controls",
          "model_name": "HBoxModel",
          "model_module_version": "1.5.0",
          "state": {
            "_dom_classes": [],
            "_model_module": "@jupyter-widgets/controls",
            "_model_module_version": "1.5.0",
            "_model_name": "HBoxModel",
            "_view_count": null,
            "_view_module": "@jupyter-widgets/controls",
            "_view_module_version": "1.5.0",
            "_view_name": "HBoxView",
            "box_style": "",
            "children": [
              "IPY_MODEL_b7975cef7cd24bea8c7c0b467b10596d",
              "IPY_MODEL_651c7eb79cb04f988b27ae7a0dc1a529",
              "IPY_MODEL_8dc8ef63476a44ee811523e1f72fd037"
            ],
            "layout": "IPY_MODEL_1264c6ad97af416fa28d997123bc9e4e"
          }
        },
        "b7975cef7cd24bea8c7c0b467b10596d": {
          "model_module": "@jupyter-widgets/controls",
          "model_name": "HTMLModel",
          "model_module_version": "1.5.0",
          "state": {
            "_dom_classes": [],
            "_model_module": "@jupyter-widgets/controls",
            "_model_module_version": "1.5.0",
            "_model_name": "HTMLModel",
            "_view_count": null,
            "_view_module": "@jupyter-widgets/controls",
            "_view_module_version": "1.5.0",
            "_view_name": "HTMLView",
            "description": "",
            "description_tooltip": null,
            "layout": "IPY_MODEL_4c93bfde88d54173883576285d328506",
            "placeholder": "​",
            "style": "IPY_MODEL_9020c43d685049099a334ecc6ca5741a",
            "value": "100%"
          }
        },
        "651c7eb79cb04f988b27ae7a0dc1a529": {
          "model_module": "@jupyter-widgets/controls",
          "model_name": "FloatProgressModel",
          "model_module_version": "1.5.0",
          "state": {
            "_dom_classes": [],
            "_model_module": "@jupyter-widgets/controls",
            "_model_module_version": "1.5.0",
            "_model_name": "FloatProgressModel",
            "_view_count": null,
            "_view_module": "@jupyter-widgets/controls",
            "_view_module_version": "1.5.0",
            "_view_name": "ProgressView",
            "bar_style": "success",
            "description": "",
            "description_tooltip": null,
            "layout": "IPY_MODEL_01ef780b58b341edac422f096a84353d",
            "max": 1530484,
            "min": 0,
            "orientation": "horizontal",
            "style": "IPY_MODEL_f2a63025ddca431cb704e29b39e37fbe",
            "value": 1530484
          }
        },
        "8dc8ef63476a44ee811523e1f72fd037": {
          "model_module": "@jupyter-widgets/controls",
          "model_name": "HTMLModel",
          "model_module_version": "1.5.0",
          "state": {
            "_dom_classes": [],
            "_model_module": "@jupyter-widgets/controls",
            "_model_module_version": "1.5.0",
            "_model_name": "HTMLModel",
            "_view_count": null,
            "_view_module": "@jupyter-widgets/controls",
            "_view_module_version": "1.5.0",
            "_view_name": "HTMLView",
            "description": "",
            "description_tooltip": null,
            "layout": "IPY_MODEL_cbf6b3b320d94fc885270268cf7350fc",
            "placeholder": "​",
            "style": "IPY_MODEL_d7e07f3eeeb1440a95643219f839018a",
            "value": " 1530484/1530484 [00:00&lt;00:00, 18084666.58it/s]"
          }
        },
        "1264c6ad97af416fa28d997123bc9e4e": {
          "model_module": "@jupyter-widgets/base",
          "model_name": "LayoutModel",
          "model_module_version": "1.2.0",
          "state": {
            "_model_module": "@jupyter-widgets/base",
            "_model_module_version": "1.2.0",
            "_model_name": "LayoutModel",
            "_view_count": null,
            "_view_module": "@jupyter-widgets/base",
            "_view_module_version": "1.2.0",
            "_view_name": "LayoutView",
            "align_content": null,
            "align_items": null,
            "align_self": null,
            "border": null,
            "bottom": null,
            "display": null,
            "flex": null,
            "flex_flow": null,
            "grid_area": null,
            "grid_auto_columns": null,
            "grid_auto_flow": null,
            "grid_auto_rows": null,
            "grid_column": null,
            "grid_gap": null,
            "grid_row": null,
            "grid_template_areas": null,
            "grid_template_columns": null,
            "grid_template_rows": null,
            "height": null,
            "justify_content": null,
            "justify_items": null,
            "left": null,
            "margin": null,
            "max_height": null,
            "max_width": null,
            "min_height": null,
            "min_width": null,
            "object_fit": null,
            "object_position": null,
            "order": null,
            "overflow": null,
            "overflow_x": null,
            "overflow_y": null,
            "padding": null,
            "right": null,
            "top": null,
            "visibility": null,
            "width": null
          }
        },
        "4c93bfde88d54173883576285d328506": {
          "model_module": "@jupyter-widgets/base",
          "model_name": "LayoutModel",
          "model_module_version": "1.2.0",
          "state": {
            "_model_module": "@jupyter-widgets/base",
            "_model_module_version": "1.2.0",
            "_model_name": "LayoutModel",
            "_view_count": null,
            "_view_module": "@jupyter-widgets/base",
            "_view_module_version": "1.2.0",
            "_view_name": "LayoutView",
            "align_content": null,
            "align_items": null,
            "align_self": null,
            "border": null,
            "bottom": null,
            "display": null,
            "flex": null,
            "flex_flow": null,
            "grid_area": null,
            "grid_auto_columns": null,
            "grid_auto_flow": null,
            "grid_auto_rows": null,
            "grid_column": null,
            "grid_gap": null,
            "grid_row": null,
            "grid_template_areas": null,
            "grid_template_columns": null,
            "grid_template_rows": null,
            "height": null,
            "justify_content": null,
            "justify_items": null,
            "left": null,
            "margin": null,
            "max_height": null,
            "max_width": null,
            "min_height": null,
            "min_width": null,
            "object_fit": null,
            "object_position": null,
            "order": null,
            "overflow": null,
            "overflow_x": null,
            "overflow_y": null,
            "padding": null,
            "right": null,
            "top": null,
            "visibility": null,
            "width": null
          }
        },
        "9020c43d685049099a334ecc6ca5741a": {
          "model_module": "@jupyter-widgets/controls",
          "model_name": "DescriptionStyleModel",
          "model_module_version": "1.5.0",
          "state": {
            "_model_module": "@jupyter-widgets/controls",
            "_model_module_version": "1.5.0",
            "_model_name": "DescriptionStyleModel",
            "_view_count": null,
            "_view_module": "@jupyter-widgets/base",
            "_view_module_version": "1.2.0",
            "_view_name": "StyleView",
            "description_width": ""
          }
        },
        "01ef780b58b341edac422f096a84353d": {
          "model_module": "@jupyter-widgets/base",
          "model_name": "LayoutModel",
          "model_module_version": "1.2.0",
          "state": {
            "_model_module": "@jupyter-widgets/base",
            "_model_module_version": "1.2.0",
            "_model_name": "LayoutModel",
            "_view_count": null,
            "_view_module": "@jupyter-widgets/base",
            "_view_module_version": "1.2.0",
            "_view_name": "LayoutView",
            "align_content": null,
            "align_items": null,
            "align_self": null,
            "border": null,
            "bottom": null,
            "display": null,
            "flex": null,
            "flex_flow": null,
            "grid_area": null,
            "grid_auto_columns": null,
            "grid_auto_flow": null,
            "grid_auto_rows": null,
            "grid_column": null,
            "grid_gap": null,
            "grid_row": null,
            "grid_template_areas": null,
            "grid_template_columns": null,
            "grid_template_rows": null,
            "height": null,
            "justify_content": null,
            "justify_items": null,
            "left": null,
            "margin": null,
            "max_height": null,
            "max_width": null,
            "min_height": null,
            "min_width": null,
            "object_fit": null,
            "object_position": null,
            "order": null,
            "overflow": null,
            "overflow_x": null,
            "overflow_y": null,
            "padding": null,
            "right": null,
            "top": null,
            "visibility": null,
            "width": null
          }
        },
        "f2a63025ddca431cb704e29b39e37fbe": {
          "model_module": "@jupyter-widgets/controls",
          "model_name": "ProgressStyleModel",
          "model_module_version": "1.5.0",
          "state": {
            "_model_module": "@jupyter-widgets/controls",
            "_model_module_version": "1.5.0",
            "_model_name": "ProgressStyleModel",
            "_view_count": null,
            "_view_module": "@jupyter-widgets/base",
            "_view_module_version": "1.2.0",
            "_view_name": "StyleView",
            "bar_color": null,
            "description_width": ""
          }
        },
        "cbf6b3b320d94fc885270268cf7350fc": {
          "model_module": "@jupyter-widgets/base",
          "model_name": "LayoutModel",
          "model_module_version": "1.2.0",
          "state": {
            "_model_module": "@jupyter-widgets/base",
            "_model_module_version": "1.2.0",
            "_model_name": "LayoutModel",
            "_view_count": null,
            "_view_module": "@jupyter-widgets/base",
            "_view_module_version": "1.2.0",
            "_view_name": "LayoutView",
            "align_content": null,
            "align_items": null,
            "align_self": null,
            "border": null,
            "bottom": null,
            "display": null,
            "flex": null,
            "flex_flow": null,
            "grid_area": null,
            "grid_auto_columns": null,
            "grid_auto_flow": null,
            "grid_auto_rows": null,
            "grid_column": null,
            "grid_gap": null,
            "grid_row": null,
            "grid_template_areas": null,
            "grid_template_columns": null,
            "grid_template_rows": null,
            "height": null,
            "justify_content": null,
            "justify_items": null,
            "left": null,
            "margin": null,
            "max_height": null,
            "max_width": null,
            "min_height": null,
            "min_width": null,
            "object_fit": null,
            "object_position": null,
            "order": null,
            "overflow": null,
            "overflow_x": null,
            "overflow_y": null,
            "padding": null,
            "right": null,
            "top": null,
            "visibility": null,
            "width": null
          }
        },
        "d7e07f3eeeb1440a95643219f839018a": {
          "model_module": "@jupyter-widgets/controls",
          "model_name": "DescriptionStyleModel",
          "model_module_version": "1.5.0",
          "state": {
            "_model_module": "@jupyter-widgets/controls",
            "_model_module_version": "1.5.0",
            "_model_name": "DescriptionStyleModel",
            "_view_count": null,
            "_view_module": "@jupyter-widgets/base",
            "_view_module_version": "1.2.0",
            "_view_name": "StyleView",
            "description_width": ""
          }
        }
      }
    }
  },
  "nbformat": 4,
  "nbformat_minor": 0
}